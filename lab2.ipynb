{
 "cells": [
  {
   "cell_type": "markdown",
   "metadata": {
    "id": "ep2DPT3H32s9"
   },
   "source": [
    "<a href=\"https://colab.research.google.com/github/wingated/cs474_labs_f2019/blob/master/Alternate_Labs/DL_Lab2.ipynb\" target=\"_parent\"><img src=\"https://colab.research.google.com/assets/colab-badge.svg\" alt=\"Open In Colab\"/></a>"
   ]
  },
  {
   "cell_type": "markdown",
   "metadata": {
    "id": "view-in-github"
   },
   "source": [
    "# Lab 2: Intro to PyTorch\n",
    "\n",
    "## Deliverable\n",
    "\n",
    "For this lab, you will submit an IPython notebook via Learning Suite.\n",
    "This lab will be mostly boilerplate code, but you will be required to implement a few extras.\n",
    "\n",
    "**NOTE: you almost certainly will not understand most of what's going on in this lab!\n",
    "That's ok - the point is just to get you going with PyTorch.\n",
    "We'll be working on developing a deeper understanding of every part of this code\n",
    "over the course of the next two weeks.**\n",
    "\n",
    "A major goal of this lab is to help you become conversant in working through PyTorch\n",
    "tutorials and documentation.\n",
    "You should turn to the documentation first, but you may google whatever you need, as there are many great PyTorch tutorials online.\n",
    "\n",
    "This notebook will have four parts:\n",
    "\n",
    "* Part 1: Your notebook should contain the boilerplate code. See below.\n",
    "\n",
    "* Part 2: Your notebook should contain a testing loop.\n",
    "\n",
    "* Part 3: Your notebook should contain a visualization of test/training performance over time.\n",
    "\n",
    "The resulting image could, for example, look like this:\n",
    "![](http://liftothers.org/dokuwiki/lib/exe/fetch.php?cache=&w=900&h=608&tok=3092fe&media=cs501r_f2018:lab2.png)\n",
    "\n",
    "* Part 4: Your notebook should contain the completed microtasks and pass all the asserts.\n",
    "\n",
    "See the assigned readings for pointers to documentation on PyTorch.\n",
    "___\n",
    "\n",
    "### Grading standards:\n",
    "Your notebook will be graded on the following:\n",
    "\n",
    "* 40% Successfully followed lab video and typed in code\n",
    "* 20% Modified code to include a test/train split\n",
    "* 20% Modified code to include a visualization of train/test losses\n",
    "* 10% Tidy and legible figures, including labeled axes where appropriate\n",
    "* 10% Correct solutions to the microtasks\n",
    "___\n",
    "\n",
    "### Description\n",
    "Throughout this class, we will be using PyTorch to implement our deep neural networks. \n",
    "PyTorch is a deep learning framework that handles the low-level details of \n",
    "GPU integration and automatic differentiation.\n",
    "\n",
    "The goal of this lab is to help you become familiar with PyTorch. \n",
    "The four parts of the lab are outlined above.\n",
    "\n",
    "For part 1, you should watch the video below, and type in the code as it is explained to you.\n",
    "\n",
    "A more detailed outline of Part 1 is below.\n",
    "\n",
    "For part 2, you must add a validation (or testing) loop using the \n",
    "FashionMNIST dataset with train=False\n",
    "\n",
    "For part 3, you must plot the loss values.\n",
    "\n",
    "For part 4, you must complete the microtasks and pass all asserts.\n",
    "\n",
    "Optional: Demonstrate overfitting on the training data.\n",
    "\n",
    "The easiest way to do this is to limit the size of your training dataset \n",
    "so that it only returns a single batch (i.e. len(dataloader) == batch_size, \n",
    "and train for multiple epochs. For example,\n",
    "I set my batch size to 42, and augmented my dataloader to produce only 42 \n",
    "unique items by overwriting the len function to return 42. \n",
    "In my training loop, I performed a validation every epoch which basically corresponded \n",
    "to a validation every step.\n",
    "\n",
    "In practice, you will normally compute your validation loss every n steps, \n",
    "rather than at the end of every epoch. This is because some epochs can take hours, \n",
    "or even days and you don’t often want to wait that long to see your results.\n",
    "\n",
    "Testing your algorithm by using a single batch and training until overfitting \n",
    "is a great way of making sure that your model and optimizer are working the way they should!\n",
    "\n",
    "___\n",
    "\n",
    "### Part 0\n",
    "Watch Tutorial Video\n",
    "\n",
    "[https://youtu.be/E76hLX9WCLE](https://youtu.be/E76hLX9WCLE)\n",
    "\n",
    "**TODO:**\n",
    "* Watch video\n",
    "\n",
    "**DONE:**\n",
    "\n",
    "___\n",
    "\n",
    "### Part 1\n",
    "Your notebook should contain the boilerplate code. See below.\n",
    "\n",
    "**TODO:**\n",
    "\n",
    "* Replicate boilerplate from the video\n",
    "\n",
    "**DONE:**\n",
    "\n",
    "___\n",
    "\n",
    "### Part 2\n",
    "Your notebook should contain a testing (validation) loop.\n",
    "\n",
    "**TODO:**\n",
    "\n",
    "* Add a testing (validation) loop\n",
    "\n",
    "**DONE:**"
   ]
  },
  {
   "cell_type": "code",
   "execution_count": 2,
   "metadata": {
    "colab": {
     "base_uri": "https://localhost:8080/"
    },
    "id": "QClXc9i7VRyA",
    "outputId": "e8706473-84e4-4035-c0ad-389b046838a2",
    "pycharm": {
     "is_executing": false
    },
    "tags": []
   },
   "outputs": [
    {
     "name": "stdout",
     "output_type": "stream",
     "text": [
      "Requirement already satisfied: torch in /opt/conda/lib/python3.10/site-packages (1.13.1)\n",
      "Requirement already satisfied: typing-extensions in /opt/conda/lib/python3.10/site-packages (from torch) (4.3.0)\n",
      "Requirement already satisfied: nvidia-cudnn-cu11==8.5.0.96 in /opt/conda/lib/python3.10/site-packages (from torch) (8.5.0.96)\n",
      "Requirement already satisfied: nvidia-cuda-runtime-cu11==11.7.99 in /opt/conda/lib/python3.10/site-packages (from torch) (11.7.99)\n",
      "Requirement already satisfied: nvidia-cuda-nvrtc-cu11==11.7.99 in /opt/conda/lib/python3.10/site-packages (from torch) (11.7.99)\n",
      "Requirement already satisfied: nvidia-cublas-cu11==11.10.3.66 in /opt/conda/lib/python3.10/site-packages (from torch) (11.10.3.66)\n",
      "Requirement already satisfied: setuptools in /opt/conda/lib/python3.10/site-packages (from nvidia-cublas-cu11==11.10.3.66->torch) (63.4.1)\n",
      "Requirement already satisfied: wheel in /opt/conda/lib/python3.10/site-packages (from nvidia-cublas-cu11==11.10.3.66->torch) (0.37.1)\n",
      "\u001b[33mWARNING: Running pip as the 'root' user can result in broken permissions and conflicting behaviour with the system package manager. It is recommended to use a virtual environment instead: https://pip.pypa.io/warnings/venv\u001b[0m\u001b[33m\n",
      "\u001b[0mRequirement already satisfied: torchvision in /opt/conda/lib/python3.10/site-packages (0.14.1)\n",
      "Requirement already satisfied: typing-extensions in /opt/conda/lib/python3.10/site-packages (from torchvision) (4.3.0)\n",
      "Requirement already satisfied: pillow!=8.3.*,>=5.3.0 in /opt/conda/lib/python3.10/site-packages (from torchvision) (9.3.0)\n",
      "Requirement already satisfied: requests in /opt/conda/lib/python3.10/site-packages (from torchvision) (2.28.1)\n",
      "Requirement already satisfied: torch==1.13.1 in /opt/conda/lib/python3.10/site-packages (from torchvision) (1.13.1)\n",
      "Requirement already satisfied: numpy in /opt/conda/lib/python3.10/site-packages (from torchvision) (1.23.5)\n",
      "Requirement already satisfied: nvidia-cudnn-cu11==8.5.0.96 in /opt/conda/lib/python3.10/site-packages (from torch==1.13.1->torchvision) (8.5.0.96)\n",
      "Requirement already satisfied: nvidia-cuda-nvrtc-cu11==11.7.99 in /opt/conda/lib/python3.10/site-packages (from torch==1.13.1->torchvision) (11.7.99)\n",
      "Requirement already satisfied: nvidia-cuda-runtime-cu11==11.7.99 in /opt/conda/lib/python3.10/site-packages (from torch==1.13.1->torchvision) (11.7.99)\n",
      "Requirement already satisfied: nvidia-cublas-cu11==11.10.3.66 in /opt/conda/lib/python3.10/site-packages (from torch==1.13.1->torchvision) (11.10.3.66)\n",
      "Requirement already satisfied: setuptools in /opt/conda/lib/python3.10/site-packages (from nvidia-cublas-cu11==11.10.3.66->torch==1.13.1->torchvision) (63.4.1)\n",
      "Requirement already satisfied: wheel in /opt/conda/lib/python3.10/site-packages (from nvidia-cublas-cu11==11.10.3.66->torch==1.13.1->torchvision) (0.37.1)\n",
      "Requirement already satisfied: charset-normalizer<3,>=2 in /opt/conda/lib/python3.10/site-packages (from requests->torchvision) (2.0.4)\n",
      "Requirement already satisfied: idna<4,>=2.5 in /opt/conda/lib/python3.10/site-packages (from requests->torchvision) (3.3)\n",
      "Requirement already satisfied: certifi>=2017.4.17 in /opt/conda/lib/python3.10/site-packages (from requests->torchvision) (2022.9.24)\n",
      "Requirement already satisfied: urllib3<1.27,>=1.21.1 in /opt/conda/lib/python3.10/site-packages (from requests->torchvision) (1.26.13)\n",
      "\u001b[33mWARNING: Running pip as the 'root' user can result in broken permissions and conflicting behaviour with the system package manager. It is recommended to use a virtual environment instead: https://pip.pypa.io/warnings/venv\u001b[0m\u001b[33m\n",
      "\u001b[0mRequirement already satisfied: tqdm in /opt/conda/lib/python3.10/site-packages (4.64.1)\n",
      "\u001b[33mWARNING: Running pip as the 'root' user can result in broken permissions and conflicting behaviour with the system package manager. It is recommended to use a virtual environment instead: https://pip.pypa.io/warnings/venv\u001b[0m\u001b[33m\n",
      "\u001b[0m"
     ]
    }
   ],
   "source": [
    "!pip3 install torch \n",
    "!pip3 install torchvision\n",
    "!pip3 install tqdm"
   ]
  },
  {
   "cell_type": "code",
   "execution_count": 3,
   "metadata": {
    "id": "OU80yuvqVXwk",
    "pycharm": {
     "is_executing": false
    },
    "tags": []
   },
   "outputs": [
    {
     "ename": "AssertionError",
     "evalue": "",
     "output_type": "error",
     "traceback": [
      "\u001b[0;31m---------------------------------------------------------------------------\u001b[0m",
      "\u001b[0;31mAssertionError\u001b[0m                            Traceback (most recent call last)",
      "Cell \u001b[0;32mIn[3], line 11\u001b[0m\n\u001b[1;32m      8\u001b[0m \u001b[38;5;28;01mfrom\u001b[39;00m \u001b[38;5;21;01mtorchvision\u001b[39;00m \u001b[38;5;28;01mimport\u001b[39;00m transforms, utils, datasets\n\u001b[1;32m      9\u001b[0m \u001b[38;5;28;01mfrom\u001b[39;00m \u001b[38;5;21;01mtqdm\u001b[39;00m \u001b[38;5;28;01mimport\u001b[39;00m tqdm\n\u001b[0;32m---> 11\u001b[0m \u001b[38;5;28;01massert\u001b[39;00m torch\u001b[38;5;241m.\u001b[39mcuda\u001b[38;5;241m.\u001b[39mis_available() \u001b[38;5;66;03m# You need to request a GPU from Runtime > Change Runtime Type\u001b[39;00m\n\u001b[1;32m     13\u001b[0m \u001b[38;5;66;03m# Write the boilerplate code from the video here\u001b[39;00m\n\u001b[1;32m     14\u001b[0m \n\u001b[1;32m     15\u001b[0m \u001b[38;5;66;03m# Create a dataset class that extends the torch.utils.data Dataset class here\u001b[39;00m\n\u001b[0;32m   (...)\u001b[0m\n\u001b[1;32m     24\u001b[0m \n\u001b[1;32m     25\u001b[0m \u001b[38;5;66;03m# Run your training / validation loops\u001b[39;00m\n",
      "\u001b[0;31mAssertionError\u001b[0m: "
     ]
    }
   ],
   "source": [
    "import torch\n",
    "import torch.nn as nn\n",
    "import torch.nn.functional as F\n",
    "import torch.optim as optim\n",
    "from torch.utils.data import Dataset, DataLoader\n",
    "import numpy as np\n",
    "import matplotlib.pyplot as plt\n",
    "from torchvision import transforms, utils, datasets\n",
    "from tqdm import tqdm\n",
    " \n",
    "assert torch.cuda.is_available() # You need to request a GPU from Runtime > Change Runtime Type\n",
    "\n",
    "# Write the boilerplate code from the video here\n",
    "\n",
    "# Create a dataset class that extends the torch.utils.data Dataset class here\n",
    "\n",
    "# Extend the torch.Module class to create your own neural network\n",
    "\n",
    "# Instantiate the train and validation sets\n",
    "\n",
    "# Instantiate your data loaders\n",
    "\n",
    "# Instantiate your model and loss and optimizer functions\n",
    "\n",
    "# Run your training / validation loops\n"
   ]
  },
  {
   "cell_type": "code",
   "execution_count": 4,
   "metadata": {
    "id": "c9PON3aru4Fh",
    "tags": []
   },
   "outputs": [],
   "source": [
    "class LinearNetwork(nn.Module):\n",
    "  def __init__(self,dataset, num_inner_neurons):\n",
    "    super(LinearNetwork, self).__init__()\n",
    "    x,y = dataset[0]\n",
    "    c,h,w = x.size()\n",
    "    out_dim = 10\n",
    "    self.num_inner_neurons = num_inner_neurons\n",
    "\n",
    "    self.net = nn.Sequential(nn.Linear(c*h*w, self.num_inner_neurons), nn.ReLU(), nn.Linear(self.num_inner_neurons, out_dim))\n",
    "\n",
    "  def forward(self,x):\n",
    "    n,c,h,w = x.size()\n",
    "    flattened = x.view(n,c*h*w)\n",
    "    return self.net(flattened)\n",
    "\n",
    "    \n",
    "class FMPDataset(Dataset):\n",
    "  def __init__(self, root, train=True):\n",
    "    self.data = datasets.FashionMNIST(root, train=train, transform= transforms.ToTensor(), download = True)\n",
    "\n",
    "  def __getitem__(self,i):\n",
    "    return self.data[i]\n",
    "\n",
    "  def __len__(self):\n",
    "    return len(self.data)\n",
    "\n"
   ]
  },
  {
   "cell_type": "code",
   "execution_count": 7,
   "metadata": {
    "colab": {
     "base_uri": "https://localhost:8080/"
    },
    "id": "PIbBHnZRwjie",
    "outputId": "8148e10d-3d1c-4ff8-ec59-e065bcccf608",
    "tags": []
   },
   "outputs": [
    {
     "name": "stderr",
     "output_type": "stream",
     "text": [
      "batch:1428 loss:0.9128 val_loss:0.9365: 100%|██████████| 42870/42870 [07:43<00:00, 92.53it/s] \n"
     ]
    }
   ],
   "source": [
    "train_dataset = FMPDataset(\"/tmp/fashionmnist\", train=True)\n",
    "val_dataset = FMPDataset(\"/tmp/fashionmnist\", train=False)\n",
    "\n",
    "bs = 42\n",
    "model = LinearNetwork(train_dataset,1000)\n",
    "#model = model.cuda()\n",
    "train_loader = DataLoader(train_dataset, batch_size = bs, pin_memory = True)\n",
    "validation_loader = DataLoader(val_dataset, batch_size = bs)\n",
    "\n",
    "optimizer= optim.SGD(model.parameters(), lr = 1e-4)\n",
    "objective = torch.nn.CrossEntropyLoss()\n",
    "\n",
    "train_losses = []\n",
    "validation_losses = []\n",
    "\n",
    "num_epochs = 30\n",
    "loop =tqdm(total=len(train_loader)*num_epochs, position = 0)\n",
    "\n",
    "for epoch in range(num_epochs):\n",
    "  batch = 0\n",
    "  for x,y_truth in train_loader:\n",
    "    #x,y_truth = x.cuda(non_blocking=True), y_truth.cuda(non_blocking=True)\n",
    "\n",
    "    optimizer.zero_grad()\n",
    "\n",
    "    y_hat =  model(x)\n",
    "    loss = objective(y_hat, y_truth)\n",
    "\n",
    "    if epoch % 2 == 0 and batch == 0:\n",
    "      train_losses.append(loss.item())\n",
    "      val_loss=0\n",
    "      for val_x, val_y_truth in validation_loader:\n",
    "        #val_x, val_y_truth = val_x.cuda(non_blocking=True), val_y_truth.cuda(non_blocking=True)\n",
    "        val_y_hat = model(val_x)\n",
    "        val_loss+= objective(val_y_hat, val_y_truth)\n",
    "      validation_losses.append(val_loss.item()/len(validation_loader))\n",
    "\n",
    "    loop.update(1)\n",
    "    loop.set_description(\"batch:{} loss:{:.4f} val_loss:{:.4f}\".format(batch, loss.item(), validation_losses[-1]))\n",
    "\n",
    "    loss.backward()\n",
    "    optimizer.step()\n",
    "    batch +=1\n",
    "\n",
    "loop.close()\n",
    "\n",
    "\n",
    "\n"
   ]
  },
  {
   "cell_type": "code",
   "execution_count": 5,
   "metadata": {
    "colab": {
     "base_uri": "https://localhost:8080/"
    },
    "id": "Nw8ToeQexIRJ",
    "outputId": "964a392a-7303-46b3-be65-640a966bec83"
   },
   "outputs": [
    {
     "data": {
      "text/plain": [
       "60000"
      ]
     },
     "execution_count": 5,
     "metadata": {},
     "output_type": "execute_result"
    }
   ],
   "source": [
    "len(train_dataset)"
   ]
  },
  {
   "cell_type": "code",
   "execution_count": 6,
   "metadata": {
    "colab": {
     "base_uri": "https://localhost:8080/"
    },
    "id": "wqRuepeaxdG7",
    "outputId": "9c09d848-d865-40f4-e42d-60ea4627fb61"
   },
   "outputs": [
    {
     "data": {
      "text/plain": [
       "10000"
      ]
     },
     "execution_count": 6,
     "metadata": {},
     "output_type": "execute_result"
    }
   ],
   "source": [
    "len(val_dataset)"
   ]
  },
  {
   "cell_type": "markdown",
   "metadata": {
    "id": "_IZmHOvirnFn"
   },
   "source": [
    "\n",
    "___\n",
    "\n",
    "### Part 3\n",
    "Your notebook should contain a visualization of test/training\n",
    "performance over time. Use matplotlib.pyplot, and label the graph's axes.\n",
    "\n",
    "**TODO:**\n",
    "* Add a visualization of test/train performance (i.e. loss) over time.\n",
    "\n",
    "**DONE:**\n"
   ]
  },
  {
   "cell_type": "code",
   "execution_count": 8,
   "metadata": {
    "colab": {
     "base_uri": "https://localhost:8080/",
     "height": 268
    },
    "id": "YqYrbI5-WHb3",
    "outputId": "dbd0c308-d553-4df8-ebd2-6a65b66745b4",
    "pycharm": {
     "is_executing": false
    },
    "tags": []
   },
   "outputs": [
    {
     "data": {
      "image/png": "[encoded data removed]",
      "text/plain": [
       "<Figure size 640x480 with 1 Axes>"
      ]
     },
     "metadata": {},
     "output_type": "display_data"
    }
   ],
   "source": [
    "fig = plt.figure()\n",
    "ax = fig.add_subplot(111)\n",
    "ax.plot( validation_losses, label = \"val\")\n",
    "ax.plot( train_losses, label = \"train\")\n",
    "plt.legend()\n",
    "plt.show()"
   ]
  },
  {
   "cell_type": "markdown",
   "metadata": {
    "id": "0wW4QNYG4LE2"
   },
   "source": [
    "\n",
    "___\n",
    "\n",
    "### Part 4\n",
    "Complete the following microtasks to learn some important PyTorch skills.\n",
    "\n",
    "If you do not know how to complete one of the microtasks, use [PyTorch's documentation](https://pytorch.org/docs/stable/index.html)! PyTorch is very well documented, and you will need to learn how to use the documentation, especially in later labs.\n",
    "\n",
    "**TODO:**\n",
    "* Complete microtasks\n",
    "\n",
    "**DONE:**"
   ]
  },
  {
   "cell_type": "markdown",
   "metadata": {
    "id": "IQTgo4GNubyM"
   },
   "source": [
    "### Computation Graph Microtasks"
   ]
  },
  {
   "cell_type": "code",
   "execution_count": 8,
   "metadata": {
    "colab": {
     "base_uri": "https://localhost:8080/",
     "height": 217
    },
    "id": "RwNgANJRubyM",
    "outputId": "427676c8-3ee9-4c16-a6bc-0decdccce2d8"
   },
   "outputs": [
    {
     "ename": "NameError",
     "evalue": "ignored",
     "output_type": "error",
     "traceback": [
      "\u001b[0;31m---------------------------------------------------------------------------\u001b[0m",
      "\u001b[0;31mNameError\u001b[0m                                 Traceback (most recent call last)",
      "\u001b[0;32m<ipython-input-8-080d3108b399>\u001b[0m in \u001b[0;36m<module>\u001b[0;34m\u001b[0m\n\u001b[1;32m      5\u001b[0m \u001b[0;31m# This will simulate the output layer of a network. Hint: use `torch.rand`.\u001b[0m\u001b[0;34m\u001b[0m\u001b[0;34m\u001b[0m\u001b[0;34m\u001b[0m\u001b[0m\n\u001b[1;32m      6\u001b[0m \u001b[0;34m\u001b[0m\u001b[0m\n\u001b[0;32m----> 7\u001b[0;31m \u001b[0mprint\u001b[0m\u001b[0;34m(\u001b[0m\u001b[0ma\u001b[0m\u001b[0;34m)\u001b[0m\u001b[0;34m\u001b[0m\u001b[0;34m\u001b[0m\u001b[0m\n\u001b[0m\u001b[1;32m      8\u001b[0m \u001b[0;32massert\u001b[0m \u001b[0ma\u001b[0m\u001b[0;34m.\u001b[0m\u001b[0msize\u001b[0m\u001b[0;34m(\u001b[0m\u001b[0;34m)\u001b[0m \u001b[0;34m==\u001b[0m \u001b[0mtorch\u001b[0m\u001b[0;34m.\u001b[0m\u001b[0mSize\u001b[0m\u001b[0;34m(\u001b[0m\u001b[0;34m[\u001b[0m\u001b[0;36m10\u001b[0m\u001b[0;34m]\u001b[0m\u001b[0;34m)\u001b[0m\u001b[0;34m\u001b[0m\u001b[0;34m\u001b[0m\u001b[0m\n",
      "\u001b[0;31mNameError\u001b[0m: name 'a' is not defined"
     ]
    }
   ],
   "source": [
    "# To understand how PyTorch organizes the computation graph, let's walk through \n",
    "# a quick example!\n",
    "\n",
    "# 1. First, construct a tensor 'a' that contains 10 random floats. \n",
    "# This will simulate the output layer of a network. Hint: use `torch.rand`.\n",
    "\n",
    "print(a)\n",
    "assert a.size() == torch.Size([10])"
   ]
  },
  {
   "cell_type": "code",
   "execution_count": null,
   "metadata": {
    "id": "J_eOf-viubyN"
   },
   "outputs": [],
   "source": [
    "# 2. Now turn 'a' into an `nn.Parameter` so that it be attached to the computation\n",
    "# graph.\n",
    "\n",
    "print(a)\n",
    "assert type(a) == nn.Parameter\n",
    "\n",
    "# Notice that our original tensor 'a' is nested inside of a Parameter object.\n",
    "# The Parameter object knows that it will need to compute gradients at some point.\n",
    "\n",
    "# No need to do anything here, but this assert should pass.\n",
    "assert a.requires_grad == True"
   ]
  },
  {
   "cell_type": "code",
   "execution_count": null,
   "metadata": {
    "id": "MR_aexY6ubyO"
   },
   "outputs": [],
   "source": [
    "# 3. Let's run 'a' through a loss function. The output of the loss function is\n",
    "# just another tensor, but this tensor remembers what operations produced it.\n",
    "loss_fn = nn.CrossEntropyLoss()\n",
    "loss = loss_fn(a.unsqueeze(0), torch.Tensor([7]).long())\n",
    "print(loss)\n",
    "\n",
    "# Now, instruct the network to do a backward pass, by calling '.backward()' on the \n",
    "# result of the loss function. We should now be able to see the gradients that \n",
    "# were computed for 'a' w.r.t. the loss.\n",
    "\n",
    "assert a.grad is not None\n",
    "print(a.grad)"
   ]
  },
  {
   "cell_type": "code",
   "execution_count": null,
   "metadata": {
    "id": "0JOtxJkHubyO"
   },
   "outputs": [],
   "source": [
    "# 4. If we were to use 'a' in another operation, this might affect the computation graph.\n",
    "# To make sure that you are not adversly affecting the computation graph, call\n",
    "# `.detach()` on 'a' and assign the result to a new variable 'b'.\n",
    "\n",
    "print(a)\n",
    "print(b)\n",
    "assert a.requires_grad == True\n",
    "assert b.requires_grad == False"
   ]
  }
 ],
 "metadata": {
  "accelerator": "GPU",
  "colab": {
   "provenance": []
  },
  "instance_type": "ml.t3.medium",
  "kernelspec": {
   "display_name": "Python 3 (Data Science 3.0)",
   "language": "python",
   "name": "python3__SAGEMAKER_INTERNAL__arn:aws:sagemaker:us-east-2:429704687514:image/sagemaker-data-science-310-v1"
  },
  "language_info": {
   "codemirror_mode": {
    "name": "ipython",
    "version": 3
   },
   "file_extension": ".py",
   "mimetype": "text/x-python",
   "name": "python",
   "nbconvert_exporter": "python",
   "pygments_lexer": "ipython3",
   "version": "3.10.6"
  },
  "pycharm": {
   "stem_cell": {
    "cell_type": "raw",
    "metadata": {
     "collapsed": false
    },
    "source": []
   }
  }
 },
 "nbformat": 4,
 "nbformat_minor": 4
}
