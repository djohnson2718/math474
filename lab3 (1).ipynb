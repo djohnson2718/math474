{
  "cells": [
    {
      "cell_type": "markdown",
      "metadata": {
        "id": "bcAFbGj-wBXn"
      },
      "source": [
        "<a href=\"https://colab.research.google.com/github/wingated/cs474_labs_f2019/blob/master/DL_Lab3.ipynb\" target=\"_parent\"><img src=\"https://colab.research.google.com/assets/colab-badge.svg\" alt=\"Open In Colab\"/></a>"
      ]
    },
    {
      "cell_type": "markdown",
      "metadata": {
        "id": "view-in-github"
      },
      "source": [
        "# Lab 3: Intro to CNNs and DNNs\n",
        "\n",
        "## Objectives\n",
        "\n",
        "* Build and train a deep conv net\n",
        "* Explore and implement various initialization techniques\n",
        "* Implement a parameterized module in Pytorch\n",
        "* Use a principled loss function\n",
        "\n",
        "## Video Tutorial\n",
        "[https://youtu.be/3TAuTcx-VCc](https://youtu.be/3TAuTcx-VCc)\n",
        "\n",
        "## Deliverable\n",
        "For this lab, you will submit an ipython notebook via learningsuite.\n",
        "This is where you build your first deep neural network!\n",
        "\n",
        "For this lab, we'll be combining several different concepts that we've covered during class,\n",
        "including new layer types, initialization strategies, and an understanding of convolutions.\n",
        "\n",
        "## Grading Standards:\n",
        "* 20% Part 0: Successfully followed lab video and typed in code\n",
        "* 20% Part 1: Re-implement Conv2D and CrossEntropy loss function\n",
        "* 20% Part 2: Implement different initialization strategies\n",
        "* 10% Part 3: Print parameters, plot train/test accuracy\n",
        "* 10% Reach 85% validation accuracy from parts 1-3\n",
        "* 10% Part 4: Convolution parameters quiz\n",
        "* 10% Tidy and legible figures, including labeled axes where appropriate\n",
        "___\n",
        "\n",
        "### Part 0\n",
        "Watch and follow video tutorial:\n",
        "\n",
        "[https://youtu.be/3TAuTcx-VCc](https://youtu.be/3TAuTcx-VCc)\n",
        "\n",
        "**TODO:**\n",
        "\n",
        "* Watch tutorial\n",
        "\n",
        "**DONE:**"
      ]
    },
    {
      "cell_type": "code",
      "execution_count": 1,
      "metadata": {
        "colab": {
          "base_uri": "https://localhost:8080/"
        },
        "id": "hlznyvPtwBXp",
        "outputId": "b23b70fc-cbd5-4f44-c127-025369b7ae15",
        "pycharm": {
          "name": "#%%\n"
        }
      },
      "outputs": [
        {
          "name": "stdout",
          "output_type": "stream",
          "text": [
            "Requirement already satisfied: torch in c:\\users\\johnson\\appdata\\local\\programs\\python\\python39\\lib\\site-packages (1.13.1)\n",
            "Requirement already satisfied: typing-extensions in c:\\users\\johnson\\appdata\\local\\programs\\python\\python39\\lib\\site-packages (from torch) (3.7.4.3)\n"
          ]
        },
        {
          "name": "stderr",
          "output_type": "stream",
          "text": [
            "WARNING: You are using pip version 20.2.3; however, version 22.3.1 is available.\n",
            "You should consider upgrading via the 'c:\\users\\johnson\\appdata\\local\\programs\\python\\python39\\python.exe -m pip install --upgrade pip' command.\n"
          ]
        },
        {
          "name": "stdout",
          "output_type": "stream",
          "text": [
            "Requirement already satisfied: torchvision in c:\\users\\johnson\\appdata\\local\\programs\\python\\python39\\lib\\site-packages (0.14.1+cu117)\n",
            "Requirement already satisfied: numpy in c:\\users\\johnson\\appdata\\local\\programs\\python\\python39\\lib\\site-packages (from torchvision) (1.20.1)\n",
            "Requirement already satisfied: requests in c:\\users\\johnson\\appdata\\local\\programs\\python\\python39\\lib\\site-packages (from torchvision) (2.13.0)\n",
            "Requirement already satisfied: pillow!=8.3.*,>=5.3.0 in c:\\users\\johnson\\appdata\\local\\programs\\python\\python39\\lib\\site-packages (from torchvision) (9.4.0)\n",
            "Requirement already satisfied: typing-extensions in c:\\users\\johnson\\appdata\\local\\programs\\python\\python39\\lib\\site-packages (from torchvision) (3.7.4.3)\n",
            "Requirement already satisfied: torch==1.13.1 in c:\\users\\johnson\\appdata\\local\\programs\\python\\python39\\lib\\site-packages (from torchvision) (1.13.1)\n"
          ]
        },
        {
          "name": "stderr",
          "output_type": "stream",
          "text": [
            "WARNING: You are using pip version 20.2.3; however, version 22.3.1 is available.\n",
            "You should consider upgrading via the 'c:\\users\\johnson\\appdata\\local\\programs\\python\\python39\\python.exe -m pip install --upgrade pip' command.\n"
          ]
        },
        {
          "name": "stdout",
          "output_type": "stream",
          "text": [
            "Requirement already satisfied: tqdm in c:\\users\\johnson\\appdata\\local\\programs\\python\\python39\\lib\\site-packages (4.54.1)\n"
          ]
        },
        {
          "name": "stderr",
          "output_type": "stream",
          "text": [
            "WARNING: You are using pip version 20.2.3; however, version 22.3.1 is available.\n",
            "You should consider upgrading via the 'c:\\users\\johnson\\appdata\\local\\programs\\python\\python39\\python.exe -m pip install --upgrade pip' command.\n"
          ]
        }
      ],
      "source": [
        "!pip3 install torch\n",
        "!pip3 install torchvision\n",
        "!pip3 install tqdm"
      ]
    },
    {
      "cell_type": "markdown",
      "metadata": {
        "id": "RdN-ob6JwBXp"
      },
      "source": []
    },
    {
      "cell_type": "code",
      "execution_count": 3,
      "metadata": {
        "collapsed": true,
        "id": "wQOefmcZVgTl"
      },
      "outputs": [],
      "source": [
        "import torch\n",
        "import torch.nn as nn\n",
        "import torch.nn.functional as F\n",
        "import torch.optim as optim\n",
        "from torch.utils.data import Dataset, DataLoader\n",
        "import numpy as np\n",
        "import matplotlib.pyplot as plt\n",
        "from torchvision import transforms, utils, datasets\n",
        "from tqdm import tqdm\n",
        "from torch.nn.parameter import Parameter\n",
        "import pdb\n",
        "\n",
        "assert torch.cuda.is_available(), \"You need to request a GPU from Runtime > Change Runtime\""
      ]
    },
    {
      "cell_type": "code",
      "execution_count": 12,
      "metadata": {},
      "outputs": [],
      "source": [
        "X = np.random.random((3*3*5, 7))\n",
        "U, _, Vt = np.linalg.svd(X, full_matrices=False)"
      ]
    },
    {
      "cell_type": "code",
      "execution_count": 15,
      "metadata": {},
      "outputs": [
        {
          "data": {
            "text/plain": [
              "((45, 7), (7, 7))"
            ]
          },
          "execution_count": 15,
          "metadata": {},
          "output_type": "execute_result"
        }
      ],
      "source": [
        "U.shape, Vt.shape"
      ]
    },
    {
      "cell_type": "code",
      "execution_count": 18,
      "metadata": {},
      "outputs": [
        {
          "data": {
            "text/plain": [
              "(7, 7)"
            ]
          },
          "execution_count": 18,
          "metadata": {},
          "output_type": "execute_result"
        }
      ],
      "source": [
        "U.T.dot(U).shape"
      ]
    },
    {
      "cell_type": "code",
      "execution_count": 25,
      "metadata": {},
      "outputs": [],
      "source": [
        "W=U.T.reshape(7,5,3,3)"
      ]
    },
    {
      "cell_type": "code",
      "execution_count": 28,
      "metadata": {},
      "outputs": [
        {
          "data": {
            "text/plain": [
              "-7.632783294297951e-17"
            ]
          },
          "execution_count": 28,
          "metadata": {},
          "output_type": "execute_result"
        }
      ],
      "source": [
        "(W[0,:]*W[2,:]).sum()"
      ]
    },
    {
      "cell_type": "code",
      "execution_count": 23,
      "metadata": {},
      "outputs": [
        {
          "data": {
            "text/plain": [
              "torch.Size([3])"
            ]
          },
          "execution_count": 23,
          "metadata": {},
          "output_type": "execute_result"
        }
      ],
      "source": [
        "a=torch.tensor()\n",
        "a.shape"
      ]
    },
    {
      "cell_type": "code",
      "execution_count": 4,
      "metadata": {
        "collapsed": true,
        "id": "Il_53HLSWPTY"
      },
      "outputs": [],
      "source": [
        "class LinearNetwork(nn.Module):\n",
        "  def __init__(self,dataset, num_inner_neurons):\n",
        "    super(LinearNetwork, self).__init__()\n",
        "    x,y = dataset[0]\n",
        "    c,h,w = x.size()\n",
        "    out_dim = 10\n",
        "    self.num_inner_neurons = num_inner_neurons\n",
        "\n",
        "    self.net = nn.Sequential(nn.Linear(c*h*w, self.num_inner_neurons), nn.ReLU(), nn.Linear(self.num_inner_neurons, out_dim))\n",
        "\n",
        "  def forward(self,x):\n",
        "    n,c,h,w = x.size()\n",
        "    flattened = x.view(n,c*h*w)\n",
        "    return self.net(flattened)\n",
        "\n",
        "\n",
        "class Conv2d(nn.Module):\n",
        "  def __init__(self,in_channels, out_channels, kernel_size, stride=1, padding=0, dilation=1, groups=1, bias=True, padding_mode='zeros', device=None, dtype=None, init=\"xe\"):\n",
        "    self.__dict__.update(locals())\n",
        "    super(Conv2d, self).__init__()\n",
        "    self.weight = Parameter(torch.Tensor(out_channels, in_channels, kernel_size[0], kernel_size[1]))\n",
        "    self.bias = Parameter(torch.Tensor(out_channels))\n",
        "    if init==\"uniform\":\n",
        "      self.weight.data._uniform(-1,1)\n",
        "      self.bias.data[:] = 0\n",
        "    elif init==\"orth\":\n",
        "      X = np.random.random((kernel_size[0]*kernel_size[1]*in_channels, out_channels))\n",
        "      U, _, Vt = np.linalg.svd(X, full_matrices=False)\n",
        "      print(X.shape, U.shape)\n",
        "      W = U.T.reshape(out_channels, in_channels, kernel_size[0], kernel_size[1])\n",
        "      self.weight.data[:] = torch.tensor(W)\n",
        "      self.bias.data[:] = 0\n",
        "    elif init==\"xe\":\n",
        "      var = 2/in_channels**2\n",
        "      \n",
        "      self.weight.data = torch.normal( )._normal(0,2/in_channels**2)\n",
        "      self.bias.data[:] = 0\n",
        "    else:\n",
        "      raise ValueError(\"Unknown init type\")\n",
        "\n",
        "\n",
        "    \n",
        "\n",
        "\n",
        "  def forward(self,x):\n",
        "    return F.conv2d(x,self.weight, self.bias, self.stride, self.padding, self.dilation, self.groups)\n",
        "\n",
        "  def extra_repr(self):\n",
        "    return \"?\"\n",
        "\n",
        "\n",
        "class ConvNetwork(nn.Module):\n",
        "  def __init__(self, dataset,init=\"xe\"):\n",
        "    super(ConvNetwork,self).__init__()\n",
        "    x,y = dataset[0]\n",
        "    c,h,w = x.size()\n",
        "    out_dim = 10\n",
        "\n",
        "    self.nt = nn.Sequential( Conv2d(c,10,(3,3), padding=(1,1),init=init),\n",
        "                             torch.nn.ReLU(),\n",
        "                             Conv2d(10,out_dim,(28,28), padding=(0,0),init=init) )\n",
        "\n",
        "  def forward(self,x):\n",
        "    return self.net(x).squeeze(2).squeeze(2)\n",
        "\n",
        "\n",
        "class ConvNetwork2(nn.Module):\n",
        "  def __init__(self, dataset,init=\"xe\"):\n",
        "    super(ConvNetwork,self).__init__()\n",
        "    x,y = dataset[0]\n",
        "    c,h,w = x.size()\n",
        "    out_dim = 10\n",
        "\n",
        "    self.nt = nn.Sequential( Conv2d(c,10,(3,3), padding=(1,1),init=init),\n",
        "                             torch.nn.ReLU(),\n",
        "                             Conv2d(10,20,(3,3), padding=(1,1),init=init),\n",
        "                             torch.nn.ReLU(),\n",
        "                             Conv2d(20,out_dim,(28,28), padding=(0,0),init=init))\n",
        "  def forward(self,x):\n",
        "    return self.net(x).squeeze(2).squeeze(2)\n",
        "\n",
        "class ConvNetwork3(nn.Module):\n",
        "  def __init__(self, dataset,init=\"xe\"):\n",
        "    super(ConvNetwork,self).__init__()\n",
        "    x,y = dataset[0]\n",
        "    c,h,w = x.size()\n",
        "    out_dim = 10\n",
        "\n",
        "    self.nt = nn.Sequential( Conv2d(c,10,(3,3), padding=(1,1),init=init),\n",
        "                             torch.nn.ReLU(),\n",
        "                             Conv2d(10,10,(3,3), padding=(1,1),init=init),\n",
        "                             torch.nn.MaxPool2d(2),\n",
        "                             Conv2d(10,20,(3,3), padding=(1,1),init=init),\n",
        "                             torch.nn.ReLU(),\n",
        "                             Conv2d(20,out_dim,(14,14), padding=(0,0),init=init)\n",
        "                              )\n",
        "\n",
        "  def forward(self,x):\n",
        "    return self.net(x).squeeze(2).squeeze(2)\n",
        "  \n",
        "\n",
        "    \n",
        "class FMPDataset(Dataset):\n",
        "  def __init__(self, root, train=True):\n",
        "    self.data = datasets.FashionMNIST(root, train=train, transform= transforms.ToTensor(), download = True)\n",
        "\n",
        "  def __getitem__(self,i):\n",
        "    return self.data[i]\n",
        "\n",
        "  def __len__(self):\n",
        "    return len(self.data)\n",
        "\n",
        "class CrossEntropyLoss(nn.Module):\n",
        "  def __init__(self):\n",
        "    super(CrossEntropyLoss, self).__init__()\n",
        "\n",
        "  def forward(self, y_hat, y_truth):\n",
        "    yhe = y_hat.exp()\n",
        "    score = yhe/yhe.sum(dim=1, keepdim=True)\n",
        "    score_of_correct = score[range(y_truth.size(0)), y_truth]\n",
        "    return -torch.log(score_of_correct).mean()\n",
        "    "
      ]
    },
    {
      "cell_type": "code",
      "execution_count": 6,
      "metadata": {
        "colab": {
          "base_uri": "https://localhost:8080/",
          "height": 803,
          "referenced_widgets": [
            "c00f047186cc4ff28dd162eb4298c33b",
            "4ccb31dcf3df4cbd8196cbce3f05de72",
            "a125a92a779744769ed2d4abdb5bf46e",
            "7b07e1cf2a8f44cca8089d6a39aabdb5",
            "a89529ba55c047518670913881cab312",
            "42c251d714fd499084130daa2b580b03",
            "49491813869641e3877f299a70fbecaf",
            "a2b486bfa0df44af86ee13fc1e46a3b4",
            "8ea1b82cbeff4d0a8c291b6eb27f601f",
            "e0769b04d6604073baa2be577289a80c",
            "3bef50b638a045fbaa76df4a0c3f74c5",
            "848fb9291dd842f694854b53ce846e2e",
            "2033f4424ae5444d8a4af8f2f8fee611",
            "09776de60323495f9b881e78b46468fa",
            "96c8f52b81c248058ff055b2c7502465",
            "7079195f3e1843a5908786adef7c461c",
            "489e595f15b8405798867c1a7ff148f4",
            "3dcfb82cd4d0431baf9e0aa20f4c6997",
            "83eb6810432945168ae140f4d588ff72",
            "6298e92393d247e198d6618792a7b13b",
            "a25a7310f0804da98dd385ba282659b6",
            "426e5b3fba4345f88b7517fd0d403770",
            "4976c334e8de40498b886fd744b873fa",
            "9c9780a59264431fa8d3f3a39f73eb88",
            "3698b0c5cdc94bd8a6404b97d07efe9d",
            "60f88bd3150a42f2bef611a58908eaef",
            "501f37680950464e8dce9175248c3785",
            "3a52efc3bba74f53b58d30544a30e9a3",
            "0aae83b1782149febf42de85ee2bb517",
            "dc521a47b5ab4203bb3ebdc9b0d9f62d",
            "67340992a43840cdb89695f295dfdccd",
            "6babe5dd11734317a636f80d02fbfd64",
            "bfcecf818d804b34893f2ab684befef5",
            "cd49bdaa230d41caa2bbdc0ed51a8106",
            "bc060891dc63441692ca9616da4a5cb3",
            "506daf94953a4b5ab44291e28ec923d8",
            "2493276dcac845c0b1dfe5019352187f",
            "dc1998296e2f4129acb170fa1a9bb676",
            "d51db0a3d93e46148dcb2fe022cbc9d7",
            "a453c9fbab9f4a7389311b3e06136638",
            "6ac45383000548ba9c9268652c980ac2",
            "1e1b05df006d4ff1889215e14fac943d",
            "5543d8b08aaa484283362a21dc6bf8d7",
            "4ad273e541784a6c9613ff0c30e6e152"
          ]
        },
        "id": "0M9fhrk3xBbr",
        "outputId": "fc8d8d13-440d-4916-f698-203e8d504e22"
      },
      "outputs": [],
      "source": [
        "train_dataset = FMPDataset(\"/tmp/fashionmnist\", train=True)\n",
        "val_dataset = FMPDataset(\"/tmp/fashionmnist\", train=False)\n",
        "\n",
        "bs = 42\n",
        "#model = LinearNetwork(train_dataset,1000)\n",
        "#model = model.cuda()\n",
        "train_loader = DataLoader(train_dataset, batch_size = bs, pin_memory = True)\n",
        "validation_loader = DataLoader(val_dataset, batch_size = bs)\n",
        "\n",
        "\n",
        "#objective = torch.nn.CrossEntropyLoss()\n",
        "myobjective = CrossEntropyLoss()\n",
        "\n",
        "\n",
        "def do_it(model):\n",
        "  model = model.cuda()\n",
        "  optimizer= optim.SGD(model.parameters(), lr = 1e-4)\n",
        "  losses = []\n",
        "  validations = []\n",
        "\n",
        "  num_epochs = 30\n",
        "  loop =tqdm(total=len(train_loader)*num_epochs, position = 0)\n",
        "\n",
        "  for epoch in range(num_epochs):\n",
        "    for  batch, (x,y_truth) in enumerate(train_loader):\n",
        "      x,y_truth = x.cuda(non_blocking=True), y_truth.cuda(non_blocking=True)\n",
        "\n",
        "      optimizer.zero_grad()\n",
        "      y_hat =  model(x)\n",
        "      loss = myobjective(y_hat, y_truth)\n",
        "\n",
        "      #assert loss - myobjective(y_hat, y_truth) < 1e-6, f\"myloss {myobjective(y_hat, y_truth)} != loss {loss}\"\n",
        "\n",
        "      loss.backward()\n",
        "\n",
        "      losses.append(loss.item())\n",
        "      accuracy = 0\n",
        "\n",
        "      #loop.set_description(\"batch:{} loss:{:.4f} val_loss:?\".format(batch, loss.item()))\n",
        "      loop.update(1)\n",
        "\n",
        "      optimizer.step()\n",
        "\n",
        "      if batch %1000 == 0:\n",
        "        val = np.mean( [myobjective(model(x.cuda()), y.cuda()).item() for x,y in validation_loader])\n",
        "        validations.append((len(losses),val))\n",
        "\n",
        "      loop.set_description(\"batch:{} loss:{:.4f} val_loss:{:.4f}\".format(batch, loss.item(), validations[-1][1]))\n",
        "\n",
        "  loop.close()\n"
      ]
    },
    {
      "cell_type": "code",
      "execution_count": 31,
      "metadata": {},
      "outputs": [
        {
          "name": "stderr",
          "output_type": "stream",
          "text": [
            "batch:1428 loss:0.9209 val_loss:0.9089: 100%|██████████| 42870/42870 [07:28<00:00, 95.64it/s] \n"
          ]
        }
      ],
      "source": [
        "do_it(LinearNetwork(train_dataset,1000))"
      ]
    },
    {
      "cell_type": "code",
      "execution_count": 7,
      "metadata": {},
      "outputs": [
        {
          "name": "stdout",
          "output_type": "stream",
          "text": [
            "(9, 10) (9, 9)\n"
          ]
        },
        {
          "ename": "ValueError",
          "evalue": "cannot reshape array of size 81 into shape (10,1,3,3)",
          "output_type": "error",
          "traceback": [
            "\u001b[1;31m---------------------------------------------------------------------------\u001b[0m",
            "\u001b[1;31mValueError\u001b[0m                                Traceback (most recent call last)",
            "\u001b[1;32mc:\\Users\\Johnson\\GitHub\\math474\\lab3 (1).ipynb Cell 14\u001b[0m in \u001b[0;36m<cell line: 1>\u001b[1;34m()\u001b[0m\n\u001b[1;32m----> <a href='vscode-notebook-cell:/c%3A/Users/Johnson/GitHub/math474/lab3%20%281%29.ipynb#X16sZmlsZQ%3D%3D?line=0'>1</a>\u001b[0m do_it(ConvNetwork(train_dataset,init\u001b[39m=\u001b[39;49m\u001b[39m\"\u001b[39;49m\u001b[39morth\u001b[39;49m\u001b[39m\"\u001b[39;49m))\n",
            "\u001b[1;32mc:\\Users\\Johnson\\GitHub\\math474\\lab3 (1).ipynb Cell 14\u001b[0m in \u001b[0;36mConvNetwork.__init__\u001b[1;34m(self, dataset, init)\u001b[0m\n\u001b[0;32m     <a href='vscode-notebook-cell:/c%3A/Users/Johnson/GitHub/math474/lab3%20%281%29.ipynb#X16sZmlsZQ%3D%3D?line=53'>54</a>\u001b[0m c,h,w \u001b[39m=\u001b[39m x\u001b[39m.\u001b[39msize()\n\u001b[0;32m     <a href='vscode-notebook-cell:/c%3A/Users/Johnson/GitHub/math474/lab3%20%281%29.ipynb#X16sZmlsZQ%3D%3D?line=54'>55</a>\u001b[0m out_dim \u001b[39m=\u001b[39m \u001b[39m10\u001b[39m\n\u001b[1;32m---> <a href='vscode-notebook-cell:/c%3A/Users/Johnson/GitHub/math474/lab3%20%281%29.ipynb#X16sZmlsZQ%3D%3D?line=56'>57</a>\u001b[0m \u001b[39mself\u001b[39m\u001b[39m.\u001b[39mnt \u001b[39m=\u001b[39m nn\u001b[39m.\u001b[39mSequential( Conv2d(c,\u001b[39m10\u001b[39;49m,(\u001b[39m3\u001b[39;49m,\u001b[39m3\u001b[39;49m), padding\u001b[39m=\u001b[39;49m(\u001b[39m1\u001b[39;49m,\u001b[39m1\u001b[39;49m),init\u001b[39m=\u001b[39;49minit),\n\u001b[0;32m     <a href='vscode-notebook-cell:/c%3A/Users/Johnson/GitHub/math474/lab3%20%281%29.ipynb#X16sZmlsZQ%3D%3D?line=57'>58</a>\u001b[0m                          torch\u001b[39m.\u001b[39mnn\u001b[39m.\u001b[39mReLU(),\n\u001b[0;32m     <a href='vscode-notebook-cell:/c%3A/Users/Johnson/GitHub/math474/lab3%20%281%29.ipynb#X16sZmlsZQ%3D%3D?line=58'>59</a>\u001b[0m                          Conv2d(\u001b[39m10\u001b[39m,out_dim,(\u001b[39m28\u001b[39m,\u001b[39m28\u001b[39m), padding\u001b[39m=\u001b[39m(\u001b[39m0\u001b[39m,\u001b[39m0\u001b[39m),init\u001b[39m=\u001b[39minit) )\n",
            "\u001b[1;32mc:\\Users\\Johnson\\GitHub\\math474\\lab3 (1).ipynb Cell 14\u001b[0m in \u001b[0;36mConv2d.__init__\u001b[1;34m(self, in_channels, out_channels, kernel_size, stride, padding, dilation, groups, bias, padding_mode, device, dtype, init)\u001b[0m\n\u001b[0;32m     <a href='vscode-notebook-cell:/c%3A/Users/Johnson/GitHub/math474/lab3%20%281%29.ipynb#X16sZmlsZQ%3D%3D?line=27'>28</a>\u001b[0m U, _, Vt \u001b[39m=\u001b[39m np\u001b[39m.\u001b[39mlinalg\u001b[39m.\u001b[39msvd(X, full_matrices\u001b[39m=\u001b[39m\u001b[39mFalse\u001b[39;00m)\n\u001b[0;32m     <a href='vscode-notebook-cell:/c%3A/Users/Johnson/GitHub/math474/lab3%20%281%29.ipynb#X16sZmlsZQ%3D%3D?line=28'>29</a>\u001b[0m \u001b[39mprint\u001b[39m(X\u001b[39m.\u001b[39mshape, U\u001b[39m.\u001b[39mshape)\n\u001b[1;32m---> <a href='vscode-notebook-cell:/c%3A/Users/Johnson/GitHub/math474/lab3%20%281%29.ipynb#X16sZmlsZQ%3D%3D?line=29'>30</a>\u001b[0m W \u001b[39m=\u001b[39m U\u001b[39m.\u001b[39;49mT\u001b[39m.\u001b[39;49mreshape(out_channels, in_channels, kernel_size[\u001b[39m0\u001b[39;49m], kernel_size[\u001b[39m1\u001b[39;49m])\n\u001b[0;32m     <a href='vscode-notebook-cell:/c%3A/Users/Johnson/GitHub/math474/lab3%20%281%29.ipynb#X16sZmlsZQ%3D%3D?line=30'>31</a>\u001b[0m \u001b[39mself\u001b[39m\u001b[39m.\u001b[39mweight\u001b[39m.\u001b[39mdata[:] \u001b[39m=\u001b[39m torch\u001b[39m.\u001b[39mtensor(W)\n\u001b[0;32m     <a href='vscode-notebook-cell:/c%3A/Users/Johnson/GitHub/math474/lab3%20%281%29.ipynb#X16sZmlsZQ%3D%3D?line=31'>32</a>\u001b[0m \u001b[39mself\u001b[39m\u001b[39m.\u001b[39mbias\u001b[39m.\u001b[39mdata[:] \u001b[39m=\u001b[39m \u001b[39m0\u001b[39m\n",
            "\u001b[1;31mValueError\u001b[0m: cannot reshape array of size 81 into shape (10,1,3,3)"
          ]
        }
      ],
      "source": [
        "do_it(ConvNetwork(train_dataset,init=\"orth\"))"
      ]
    },
    {
      "cell_type": "code",
      "execution_count": 8,
      "metadata": {},
      "outputs": [
        {
          "ename": "AttributeError",
          "evalue": "'Tensor' object has no attribute '_normal'",
          "output_type": "error",
          "traceback": [
            "\u001b[1;31m---------------------------------------------------------------------------\u001b[0m",
            "\u001b[1;31mAttributeError\u001b[0m                            Traceback (most recent call last)",
            "\u001b[1;32mc:\\Users\\Johnson\\GitHub\\math474\\lab3 (1).ipynb Cell 15\u001b[0m in \u001b[0;36m<cell line: 1>\u001b[1;34m()\u001b[0m\n\u001b[1;32m----> <a href='vscode-notebook-cell:/c%3A/Users/Johnson/GitHub/math474/lab3%20%281%29.ipynb#X20sZmlsZQ%3D%3D?line=0'>1</a>\u001b[0m do_it(ConvNetwork(train_dataset,init\u001b[39m=\u001b[39;49m\u001b[39m\"\u001b[39;49m\u001b[39mxe\u001b[39;49m\u001b[39m\"\u001b[39;49m))\n",
            "\u001b[1;32mc:\\Users\\Johnson\\GitHub\\math474\\lab3 (1).ipynb Cell 15\u001b[0m in \u001b[0;36mConvNetwork.__init__\u001b[1;34m(self, dataset, init)\u001b[0m\n\u001b[0;32m     <a href='vscode-notebook-cell:/c%3A/Users/Johnson/GitHub/math474/lab3%20%281%29.ipynb#X20sZmlsZQ%3D%3D?line=53'>54</a>\u001b[0m c,h,w \u001b[39m=\u001b[39m x\u001b[39m.\u001b[39msize()\n\u001b[0;32m     <a href='vscode-notebook-cell:/c%3A/Users/Johnson/GitHub/math474/lab3%20%281%29.ipynb#X20sZmlsZQ%3D%3D?line=54'>55</a>\u001b[0m out_dim \u001b[39m=\u001b[39m \u001b[39m10\u001b[39m\n\u001b[1;32m---> <a href='vscode-notebook-cell:/c%3A/Users/Johnson/GitHub/math474/lab3%20%281%29.ipynb#X20sZmlsZQ%3D%3D?line=56'>57</a>\u001b[0m \u001b[39mself\u001b[39m\u001b[39m.\u001b[39mnt \u001b[39m=\u001b[39m nn\u001b[39m.\u001b[39mSequential( Conv2d(c,\u001b[39m10\u001b[39;49m,(\u001b[39m3\u001b[39;49m,\u001b[39m3\u001b[39;49m), padding\u001b[39m=\u001b[39;49m(\u001b[39m1\u001b[39;49m,\u001b[39m1\u001b[39;49m),init\u001b[39m=\u001b[39;49minit),\n\u001b[0;32m     <a href='vscode-notebook-cell:/c%3A/Users/Johnson/GitHub/math474/lab3%20%281%29.ipynb#X20sZmlsZQ%3D%3D?line=57'>58</a>\u001b[0m                          torch\u001b[39m.\u001b[39mnn\u001b[39m.\u001b[39mReLU(),\n\u001b[0;32m     <a href='vscode-notebook-cell:/c%3A/Users/Johnson/GitHub/math474/lab3%20%281%29.ipynb#X20sZmlsZQ%3D%3D?line=58'>59</a>\u001b[0m                          Conv2d(\u001b[39m10\u001b[39m,out_dim,(\u001b[39m28\u001b[39m,\u001b[39m28\u001b[39m), padding\u001b[39m=\u001b[39m(\u001b[39m0\u001b[39m,\u001b[39m0\u001b[39m),init\u001b[39m=\u001b[39minit) )\n",
            "\u001b[1;32mc:\\Users\\Johnson\\GitHub\\math474\\lab3 (1).ipynb Cell 15\u001b[0m in \u001b[0;36mConv2d.__init__\u001b[1;34m(self, in_channels, out_channels, kernel_size, stride, padding, dilation, groups, bias, padding_mode, device, dtype, init)\u001b[0m\n\u001b[0;32m     <a href='vscode-notebook-cell:/c%3A/Users/Johnson/GitHub/math474/lab3%20%281%29.ipynb#X20sZmlsZQ%3D%3D?line=31'>32</a>\u001b[0m   \u001b[39mself\u001b[39m\u001b[39m.\u001b[39mbias\u001b[39m.\u001b[39mdata[:] \u001b[39m=\u001b[39m \u001b[39m0\u001b[39m\n\u001b[0;32m     <a href='vscode-notebook-cell:/c%3A/Users/Johnson/GitHub/math474/lab3%20%281%29.ipynb#X20sZmlsZQ%3D%3D?line=32'>33</a>\u001b[0m \u001b[39melif\u001b[39;00m init\u001b[39m==\u001b[39m\u001b[39m\"\u001b[39m\u001b[39mxe\u001b[39m\u001b[39m\"\u001b[39m:\n\u001b[1;32m---> <a href='vscode-notebook-cell:/c%3A/Users/Johnson/GitHub/math474/lab3%20%281%29.ipynb#X20sZmlsZQ%3D%3D?line=33'>34</a>\u001b[0m   \u001b[39mself\u001b[39;49m\u001b[39m.\u001b[39;49mweight\u001b[39m.\u001b[39;49mdata\u001b[39m.\u001b[39;49m_normal(\u001b[39m0\u001b[39m,\u001b[39m2\u001b[39m\u001b[39m/\u001b[39min_channels\u001b[39m*\u001b[39m\u001b[39m*\u001b[39m\u001b[39m2\u001b[39m)\n\u001b[0;32m     <a href='vscode-notebook-cell:/c%3A/Users/Johnson/GitHub/math474/lab3%20%281%29.ipynb#X20sZmlsZQ%3D%3D?line=34'>35</a>\u001b[0m   \u001b[39mself\u001b[39m\u001b[39m.\u001b[39mbias\u001b[39m.\u001b[39mdata[:] \u001b[39m=\u001b[39m \u001b[39m0\u001b[39m\n\u001b[0;32m     <a href='vscode-notebook-cell:/c%3A/Users/Johnson/GitHub/math474/lab3%20%281%29.ipynb#X20sZmlsZQ%3D%3D?line=35'>36</a>\u001b[0m \u001b[39melse\u001b[39;00m:\n",
            "\u001b[1;31mAttributeError\u001b[0m: 'Tensor' object has no attribute '_normal'"
          ]
        }
      ],
      "source": [
        "do_it(ConvNetwork(train_dataset,init=\"xe\"))"
      ]
    },
    {
      "cell_type": "code",
      "execution_count": null,
      "metadata": {},
      "outputs": [],
      "source": [
        "do_it(ConvNetwork(train_dataset,init=\"uniform\"))"
      ]
    },
    {
      "cell_type": "markdown",
      "metadata": {
        "id": "QY4owfQwm-Ni"
      },
      "source": [
        "___\n",
        "\n",
        "### Part 1\n",
        "Re-implement a Conv2D module with parameters and a CrossEntropy loss function.\n",
        "\n",
        "**TODO:**\n",
        "\n",
        "* CrossEntropyLoss \n",
        "* Conv2D\n",
        "\n",
        "**DONE:**\n",
        "\n",
        "___\n",
        "\n",
        "### Part 2\n",
        "Implement a few initialization strategies which can include Xe initialization\n",
        "(sometimes called Xavier), Orthogonal initialization, and uniform random.\n",
        "You can specify which strategy you want to use with a parameter. \n",
        "\n",
        "\n",
        "\n",
        "Helpful links include:\n",
        "*  [Orthogonal Initialization](https://hjweide.github.io/orthogonal-initialization-in-convolutional-layers) (or the original paper: http://arxiv.org/abs/1312.6120)\n",
        "*  http://andyljones.tumblr.com/post/110998971763/an-explanation-of-xavier-initialization\n",
        "\n",
        "**TODO:**\n",
        "* Parameterize custom Conv2D for different initilization strategies\n",
        "* Xe\n",
        "* Orthogonal\n",
        "* Uniform\n",
        "\n",
        "**DONE:**\n",
        "\n"
      ]
    },
    {
      "cell_type": "code",
      "execution_count": 7,
      "metadata": {},
      "outputs": [
        {
          "data": {
            "text/plain": [
              "torch.Size([24, 10])"
            ]
          },
          "execution_count": 7,
          "metadata": {},
          "output_type": "execute_result"
        }
      ],
      "source": [
        "y_hat.size()"
      ]
    },
    {
      "cell_type": "code",
      "execution_count": 7,
      "metadata": {},
      "outputs": [],
      "source": [
        "y = torch.rand(3,4)"
      ]
    },
    {
      "cell_type": "code",
      "execution_count": 9,
      "metadata": {},
      "outputs": [
        {
          "data": {
            "text/plain": [
              "tensor([[ 0.0000e+00,  4.4238e-08, -5.5879e-08,  0.0000e+00],\n",
              "        [-4.8429e-08,  1.4901e-08,  0.0000e+00,  0.0000e+00],\n",
              "        [ 0.0000e+00,  5.9605e-08,  0.0000e+00, -5.9605e-08]])"
            ]
          },
          "execution_count": 9,
          "metadata": {},
          "output_type": "execute_result"
        }
      ],
      "source": [
        "y.exp().log()-y"
      ]
    },
    {
      "cell_type": "markdown",
      "metadata": {
        "id": "ronkEckHiDaU"
      },
      "source": [
        "\n",
        "___\n",
        "\n",
        "### Part 3\n",
        "Print the number of parameters in your network and plot accuracy of your training and validation \n",
        "set over time. You should experiment with some deep networks and see if you can get a network \n",
        "with close to 1,000,000 parameters.\n",
        "\n",
        "Once you've experimented with multiple network setups and the different initialization strategies, plot the best-performing experiment here. You should be able to exceed 85% accuracy on the validation set.\n",
        "\n",
        "**TODO:**\n",
        "* Experiment with Deep Networks\n",
        "* Plot accuracy of training and validation set over time\n",
        "* Print out number of parameters in the model \n",
        "* Plot experiment results with 85% or better validation accuracy\n",
        "\n",
        "**DONE:**\n"
      ]
    },
    {
      "cell_type": "code",
      "execution_count": null,
      "metadata": {
        "collapsed": true,
        "id": "PaWCKjxvyRSf",
        "pycharm": {
          "is_executing": false
        }
      },
      "outputs": [],
      "source": [
        "\n",
        "# Go back up and try a few different networks and initialization strategies\n",
        "# Plot loss if you want\n",
        "# Plot accuracy\n",
        "\n"
      ]
    },
    {
      "cell_type": "code",
      "execution_count": null,
      "metadata": {
        "collapsed": true,
        "id": "oijCR-JnyS6V",
        "pycharm": {
          "is_executing": false
        }
      },
      "outputs": [],
      "source": [
        "# Compute and print the number of parameters in the model\n"
      ]
    },
    {
      "cell_type": "markdown",
      "metadata": {
        "id": "7hXGRxUQh9gX"
      },
      "source": [
        "___\n",
        "\n",
        "### Part 4\n",
        "Learn about how convolution layers affect the shape of outputs, and answer the following quiz questions. Include these in a new markdown cell in your jupyter notebook.\n",
        "\n",
        "\n",
        "*Using a Kernel size of 3×3 what should the settings of your 2d convolution be that results in the following mappings (first answer given to you)*\n",
        "\n",
        "* (c=3, h=10, w=10) ⇒ (c=10, h=8, w=8) : (out_channels=10, kernel_size=(3, 3), padding=(0, 0))\n",
        "* (c=3, h=10, w=10) ⇒ (c=22, h=10, w=10) : **Your answer in bold here**\n",
        "* (c=3, h=10, w=10) ⇒ (c=65, h=12, w=12) : **Your answer in bold here**\n",
        "* (c=3, h=10, w=10) ⇒ (c=7, h=20, w=20) : **Your answer in bold here**\n",
        "\n",
        "*Using a Kernel size of 5×5:*)\n",
        "\n",
        "* (c=3, h=10, w=10) ⇒ (c=10, h=8, w=8) : (out_channels=10, kernel_size=(5, 5), padding=(1, 1))\n",
        "* (c=3, h=10, w=10) ⇒ (c=100, h=10, w=10) : **Your answer in bold here**\n",
        "* (c=3, h=10, w=10) ⇒ (c=23, h=12, w=12) : **Your answer in bold here**\n",
        "* (c=3, h=10, w=10) ⇒ (c=5, h=24, w=24) : **Your answer in bold here**\n",
        "\n",
        "*Using Kernel size of 5×3:*\n",
        "\n",
        "* (c=3, h=10, w=10) ⇒ (c=10, h=8, w=8) : **Your answer in bold here**\n",
        "* (c=3, h=10, w=10) ⇒ (c=100, h=10, w=10) : **Your answer in bold here**\n",
        "* (c=3, h=10, w=10) ⇒ (c=23, h=12, w=12) : **Your answer in bold here**\n",
        "* (c=3, h=10, w=10) ⇒ (c=5, h=24, w=24) : **Your answer in bold here**\n",
        "\n",
        "*Determine the kernel that requires the smallest padding size to make the following mappings possible:*\n",
        "\n",
        "* (c=3, h=10, w=10) ⇒ (c=10, h=9, w=7) : **Your answer in bold here**\n",
        "* (c=3, h=10, w=10) ⇒ (c=22, h=10, w=10) : **Your answer in bold here**\n",
        "\n",
        "**TODO:**\n",
        "\n",
        "* Answer all the questions above \n",
        "\n",
        "**DONE:**\n"
      ]
    },
    {
      "cell_type": "code",
      "execution_count": null,
      "metadata": {
        "collapsed": true,
        "id": "XXfG3wClh8an",
        "pycharm": {
          "is_executing": false
        }
      },
      "outputs": [],
      "source": [
        "# Write some test code for checking the answers for these problems (example shown in the video)\n"
      ]
    }
  ],
  "metadata": {
    "accelerator": "GPU",
    "colab": {
      "provenance": []
    },
    "kernelspec": {
      "display_name": "base",
      "language": "python",
      "name": "python3"
    },
    "language_info": {
      "codemirror_mode": {
        "name": "ipython",
        "version": 3
      },
      "file_extension": ".py",
      "mimetype": "text/x-python",
      "name": "python",
      "nbconvert_exporter": "python",
      "pygments_lexer": "ipython3",
      "version": "3.8.3"
    },
    "pycharm": {
      "stem_cell": {
        "cell_type": "raw",
        "metadata": {
          "collapsed": false
        },
        "source": []
      }
    },
    "vscode": {
      "interpreter": {
        "hash": "4ff1fe27e4af893d8f27c3fc95375d21e9b31d3b5dcc5c632aa36e574a3ade06"
      }
    },
    "widgets": {
      "application/vnd.jupyter.widget-state+json": {
        "09776de60323495f9b881e78b46468fa": {
          "model_module": "@jupyter-widgets/controls",
          "model_module_version": "1.5.0",
          "model_name": "FloatProgressModel",
          "state": {
            "_dom_classes": [],
            "_model_module": "@jupyter-widgets/controls",
            "_model_module_version": "1.5.0",
            "_model_name": "FloatProgressModel",
            "_view_count": null,
            "_view_module": "@jupyter-widgets/controls",
            "_view_module_version": "1.5.0",
            "_view_name": "ProgressView",
            "bar_style": "success",
            "description": "",
            "description_tooltip": null,
            "layout": "IPY_MODEL_83eb6810432945168ae140f4d588ff72",
            "max": 29515,
            "min": 0,
            "orientation": "horizontal",
            "style": "IPY_MODEL_6298e92393d247e198d6618792a7b13b",
            "value": 29515
          }
        },
        "0aae83b1782149febf42de85ee2bb517": {
          "model_module": "@jupyter-widgets/controls",
          "model_module_version": "1.5.0",
          "model_name": "DescriptionStyleModel",
          "state": {
            "_model_module": "@jupyter-widgets/controls",
            "_model_module_version": "1.5.0",
            "_model_name": "DescriptionStyleModel",
            "_view_count": null,
            "_view_module": "@jupyter-widgets/base",
            "_view_module_version": "1.2.0",
            "_view_name": "StyleView",
            "description_width": ""
          }
        },
        "1e1b05df006d4ff1889215e14fac943d": {
          "model_module": "@jupyter-widgets/controls",
          "model_module_version": "1.5.0",
          "model_name": "ProgressStyleModel",
          "state": {
            "_model_module": "@jupyter-widgets/controls",
            "_model_module_version": "1.5.0",
            "_model_name": "ProgressStyleModel",
            "_view_count": null,
            "_view_module": "@jupyter-widgets/base",
            "_view_module_version": "1.2.0",
            "_view_name": "StyleView",
            "bar_color": null,
            "description_width": ""
          }
        },
        "2033f4424ae5444d8a4af8f2f8fee611": {
          "model_module": "@jupyter-widgets/controls",
          "model_module_version": "1.5.0",
          "model_name": "HTMLModel",
          "state": {
            "_dom_classes": [],
            "_model_module": "@jupyter-widgets/controls",
            "_model_module_version": "1.5.0",
            "_model_name": "HTMLModel",
            "_view_count": null,
            "_view_module": "@jupyter-widgets/controls",
            "_view_module_version": "1.5.0",
            "_view_name": "HTMLView",
            "description": "",
            "description_tooltip": null,
            "layout": "IPY_MODEL_489e595f15b8405798867c1a7ff148f4",
            "placeholder": "​",
            "style": "IPY_MODEL_3dcfb82cd4d0431baf9e0aa20f4c6997",
            "value": "100%"
          }
        },
        "2493276dcac845c0b1dfe5019352187f": {
          "model_module": "@jupyter-widgets/controls",
          "model_module_version": "1.5.0",
          "model_name": "HTMLModel",
          "state": {
            "_dom_classes": [],
            "_model_module": "@jupyter-widgets/controls",
            "_model_module_version": "1.5.0",
            "_model_name": "HTMLModel",
            "_view_count": null,
            "_view_module": "@jupyter-widgets/controls",
            "_view_module_version": "1.5.0",
            "_view_name": "HTMLView",
            "description": "",
            "description_tooltip": null,
            "layout": "IPY_MODEL_5543d8b08aaa484283362a21dc6bf8d7",
            "placeholder": "​",
            "style": "IPY_MODEL_4ad273e541784a6c9613ff0c30e6e152",
            "value": " 5148/5148 [00:00&lt;00:00, 306551.72it/s]"
          }
        },
        "3698b0c5cdc94bd8a6404b97d07efe9d": {
          "model_module": "@jupyter-widgets/controls",
          "model_module_version": "1.5.0",
          "model_name": "FloatProgressModel",
          "state": {
            "_dom_classes": [],
            "_model_module": "@jupyter-widgets/controls",
            "_model_module_version": "1.5.0",
            "_model_name": "FloatProgressModel",
            "_view_count": null,
            "_view_module": "@jupyter-widgets/controls",
            "_view_module_version": "1.5.0",
            "_view_name": "ProgressView",
            "bar_style": "success",
            "description": "",
            "description_tooltip": null,
            "layout": "IPY_MODEL_dc521a47b5ab4203bb3ebdc9b0d9f62d",
            "max": 4422102,
            "min": 0,
            "orientation": "horizontal",
            "style": "IPY_MODEL_67340992a43840cdb89695f295dfdccd",
            "value": 4422102
          }
        },
        "3a52efc3bba74f53b58d30544a30e9a3": {
          "model_module": "@jupyter-widgets/base",
          "model_module_version": "1.2.0",
          "model_name": "LayoutModel",
          "state": {
            "_model_module": "@jupyter-widgets/base",
            "_model_module_version": "1.2.0",
            "_model_name": "LayoutModel",
            "_view_count": null,
            "_view_module": "@jupyter-widgets/base",
            "_view_module_version": "1.2.0",
            "_view_name": "LayoutView",
            "align_content": null,
            "align_items": null,
            "align_self": null,
            "border": null,
            "bottom": null,
            "display": null,
            "flex": null,
            "flex_flow": null,
            "grid_area": null,
            "grid_auto_columns": null,
            "grid_auto_flow": null,
            "grid_auto_rows": null,
            "grid_column": null,
            "grid_gap": null,
            "grid_row": null,
            "grid_template_areas": null,
            "grid_template_columns": null,
            "grid_template_rows": null,
            "height": null,
            "justify_content": null,
            "justify_items": null,
            "left": null,
            "margin": null,
            "max_height": null,
            "max_width": null,
            "min_height": null,
            "min_width": null,
            "object_fit": null,
            "object_position": null,
            "order": null,
            "overflow": null,
            "overflow_x": null,
            "overflow_y": null,
            "padding": null,
            "right": null,
            "top": null,
            "visibility": null,
            "width": null
          }
        },
        "3bef50b638a045fbaa76df4a0c3f74c5": {
          "model_module": "@jupyter-widgets/controls",
          "model_module_version": "1.5.0",
          "model_name": "DescriptionStyleModel",
          "state": {
            "_model_module": "@jupyter-widgets/controls",
            "_model_module_version": "1.5.0",
            "_model_name": "DescriptionStyleModel",
            "_view_count": null,
            "_view_module": "@jupyter-widgets/base",
            "_view_module_version": "1.2.0",
            "_view_name": "StyleView",
            "description_width": ""
          }
        },
        "3dcfb82cd4d0431baf9e0aa20f4c6997": {
          "model_module": "@jupyter-widgets/controls",
          "model_module_version": "1.5.0",
          "model_name": "DescriptionStyleModel",
          "state": {
            "_model_module": "@jupyter-widgets/controls",
            "_model_module_version": "1.5.0",
            "_model_name": "DescriptionStyleModel",
            "_view_count": null,
            "_view_module": "@jupyter-widgets/base",
            "_view_module_version": "1.2.0",
            "_view_name": "StyleView",
            "description_width": ""
          }
        },
        "426e5b3fba4345f88b7517fd0d403770": {
          "model_module": "@jupyter-widgets/controls",
          "model_module_version": "1.5.0",
          "model_name": "DescriptionStyleModel",
          "state": {
            "_model_module": "@jupyter-widgets/controls",
            "_model_module_version": "1.5.0",
            "_model_name": "DescriptionStyleModel",
            "_view_count": null,
            "_view_module": "@jupyter-widgets/base",
            "_view_module_version": "1.2.0",
            "_view_name": "StyleView",
            "description_width": ""
          }
        },
        "42c251d714fd499084130daa2b580b03": {
          "model_module": "@jupyter-widgets/base",
          "model_module_version": "1.2.0",
          "model_name": "LayoutModel",
          "state": {
            "_model_module": "@jupyter-widgets/base",
            "_model_module_version": "1.2.0",
            "_model_name": "LayoutModel",
            "_view_count": null,
            "_view_module": "@jupyter-widgets/base",
            "_view_module_version": "1.2.0",
            "_view_name": "LayoutView",
            "align_content": null,
            "align_items": null,
            "align_self": null,
            "border": null,
            "bottom": null,
            "display": null,
            "flex": null,
            "flex_flow": null,
            "grid_area": null,
            "grid_auto_columns": null,
            "grid_auto_flow": null,
            "grid_auto_rows": null,
            "grid_column": null,
            "grid_gap": null,
            "grid_row": null,
            "grid_template_areas": null,
            "grid_template_columns": null,
            "grid_template_rows": null,
            "height": null,
            "justify_content": null,
            "justify_items": null,
            "left": null,
            "margin": null,
            "max_height": null,
            "max_width": null,
            "min_height": null,
            "min_width": null,
            "object_fit": null,
            "object_position": null,
            "order": null,
            "overflow": null,
            "overflow_x": null,
            "overflow_y": null,
            "padding": null,
            "right": null,
            "top": null,
            "visibility": null,
            "width": null
          }
        },
        "489e595f15b8405798867c1a7ff148f4": {
          "model_module": "@jupyter-widgets/base",
          "model_module_version": "1.2.0",
          "model_name": "LayoutModel",
          "state": {
            "_model_module": "@jupyter-widgets/base",
            "_model_module_version": "1.2.0",
            "_model_name": "LayoutModel",
            "_view_count": null,
            "_view_module": "@jupyter-widgets/base",
            "_view_module_version": "1.2.0",
            "_view_name": "LayoutView",
            "align_content": null,
            "align_items": null,
            "align_self": null,
            "border": null,
            "bottom": null,
            "display": null,
            "flex": null,
            "flex_flow": null,
            "grid_area": null,
            "grid_auto_columns": null,
            "grid_auto_flow": null,
            "grid_auto_rows": null,
            "grid_column": null,
            "grid_gap": null,
            "grid_row": null,
            "grid_template_areas": null,
            "grid_template_columns": null,
            "grid_template_rows": null,
            "height": null,
            "justify_content": null,
            "justify_items": null,
            "left": null,
            "margin": null,
            "max_height": null,
            "max_width": null,
            "min_height": null,
            "min_width": null,
            "object_fit": null,
            "object_position": null,
            "order": null,
            "overflow": null,
            "overflow_x": null,
            "overflow_y": null,
            "padding": null,
            "right": null,
            "top": null,
            "visibility": null,
            "width": null
          }
        },
        "49491813869641e3877f299a70fbecaf": {
          "model_module": "@jupyter-widgets/controls",
          "model_module_version": "1.5.0",
          "model_name": "DescriptionStyleModel",
          "state": {
            "_model_module": "@jupyter-widgets/controls",
            "_model_module_version": "1.5.0",
            "_model_name": "DescriptionStyleModel",
            "_view_count": null,
            "_view_module": "@jupyter-widgets/base",
            "_view_module_version": "1.2.0",
            "_view_name": "StyleView",
            "description_width": ""
          }
        },
        "4976c334e8de40498b886fd744b873fa": {
          "model_module": "@jupyter-widgets/controls",
          "model_module_version": "1.5.0",
          "model_name": "HBoxModel",
          "state": {
            "_dom_classes": [],
            "_model_module": "@jupyter-widgets/controls",
            "_model_module_version": "1.5.0",
            "_model_name": "HBoxModel",
            "_view_count": null,
            "_view_module": "@jupyter-widgets/controls",
            "_view_module_version": "1.5.0",
            "_view_name": "HBoxView",
            "box_style": "",
            "children": [
              "IPY_MODEL_9c9780a59264431fa8d3f3a39f73eb88",
              "IPY_MODEL_3698b0c5cdc94bd8a6404b97d07efe9d",
              "IPY_MODEL_60f88bd3150a42f2bef611a58908eaef"
            ],
            "layout": "IPY_MODEL_501f37680950464e8dce9175248c3785"
          }
        },
        "4ad273e541784a6c9613ff0c30e6e152": {
          "model_module": "@jupyter-widgets/controls",
          "model_module_version": "1.5.0",
          "model_name": "DescriptionStyleModel",
          "state": {
            "_model_module": "@jupyter-widgets/controls",
            "_model_module_version": "1.5.0",
            "_model_name": "DescriptionStyleModel",
            "_view_count": null,
            "_view_module": "@jupyter-widgets/base",
            "_view_module_version": "1.2.0",
            "_view_name": "StyleView",
            "description_width": ""
          }
        },
        "4ccb31dcf3df4cbd8196cbce3f05de72": {
          "model_module": "@jupyter-widgets/controls",
          "model_module_version": "1.5.0",
          "model_name": "HTMLModel",
          "state": {
            "_dom_classes": [],
            "_model_module": "@jupyter-widgets/controls",
            "_model_module_version": "1.5.0",
            "_model_name": "HTMLModel",
            "_view_count": null,
            "_view_module": "@jupyter-widgets/controls",
            "_view_module_version": "1.5.0",
            "_view_name": "HTMLView",
            "description": "",
            "description_tooltip": null,
            "layout": "IPY_MODEL_42c251d714fd499084130daa2b580b03",
            "placeholder": "​",
            "style": "IPY_MODEL_49491813869641e3877f299a70fbecaf",
            "value": "100%"
          }
        },
        "501f37680950464e8dce9175248c3785": {
          "model_module": "@jupyter-widgets/base",
          "model_module_version": "1.2.0",
          "model_name": "LayoutModel",
          "state": {
            "_model_module": "@jupyter-widgets/base",
            "_model_module_version": "1.2.0",
            "_model_name": "LayoutModel",
            "_view_count": null,
            "_view_module": "@jupyter-widgets/base",
            "_view_module_version": "1.2.0",
            "_view_name": "LayoutView",
            "align_content": null,
            "align_items": null,
            "align_self": null,
            "border": null,
            "bottom": null,
            "display": null,
            "flex": null,
            "flex_flow": null,
            "grid_area": null,
            "grid_auto_columns": null,
            "grid_auto_flow": null,
            "grid_auto_rows": null,
            "grid_column": null,
            "grid_gap": null,
            "grid_row": null,
            "grid_template_areas": null,
            "grid_template_columns": null,
            "grid_template_rows": null,
            "height": null,
            "justify_content": null,
            "justify_items": null,
            "left": null,
            "margin": null,
            "max_height": null,
            "max_width": null,
            "min_height": null,
            "min_width": null,
            "object_fit": null,
            "object_position": null,
            "order": null,
            "overflow": null,
            "overflow_x": null,
            "overflow_y": null,
            "padding": null,
            "right": null,
            "top": null,
            "visibility": null,
            "width": null
          }
        },
        "506daf94953a4b5ab44291e28ec923d8": {
          "model_module": "@jupyter-widgets/controls",
          "model_module_version": "1.5.0",
          "model_name": "FloatProgressModel",
          "state": {
            "_dom_classes": [],
            "_model_module": "@jupyter-widgets/controls",
            "_model_module_version": "1.5.0",
            "_model_name": "FloatProgressModel",
            "_view_count": null,
            "_view_module": "@jupyter-widgets/controls",
            "_view_module_version": "1.5.0",
            "_view_name": "ProgressView",
            "bar_style": "success",
            "description": "",
            "description_tooltip": null,
            "layout": "IPY_MODEL_6ac45383000548ba9c9268652c980ac2",
            "max": 5148,
            "min": 0,
            "orientation": "horizontal",
            "style": "IPY_MODEL_1e1b05df006d4ff1889215e14fac943d",
            "value": 5148
          }
        },
        "5543d8b08aaa484283362a21dc6bf8d7": {
          "model_module": "@jupyter-widgets/base",
          "model_module_version": "1.2.0",
          "model_name": "LayoutModel",
          "state": {
            "_model_module": "@jupyter-widgets/base",
            "_model_module_version": "1.2.0",
            "_model_name": "LayoutModel",
            "_view_count": null,
            "_view_module": "@jupyter-widgets/base",
            "_view_module_version": "1.2.0",
            "_view_name": "LayoutView",
            "align_content": null,
            "align_items": null,
            "align_self": null,
            "border": null,
            "bottom": null,
            "display": null,
            "flex": null,
            "flex_flow": null,
            "grid_area": null,
            "grid_auto_columns": null,
            "grid_auto_flow": null,
            "grid_auto_rows": null,
            "grid_column": null,
            "grid_gap": null,
            "grid_row": null,
            "grid_template_areas": null,
            "grid_template_columns": null,
            "grid_template_rows": null,
            "height": null,
            "justify_content": null,
            "justify_items": null,
            "left": null,
            "margin": null,
            "max_height": null,
            "max_width": null,
            "min_height": null,
            "min_width": null,
            "object_fit": null,
            "object_position": null,
            "order": null,
            "overflow": null,
            "overflow_x": null,
            "overflow_y": null,
            "padding": null,
            "right": null,
            "top": null,
            "visibility": null,
            "width": null
          }
        },
        "60f88bd3150a42f2bef611a58908eaef": {
          "model_module": "@jupyter-widgets/controls",
          "model_module_version": "1.5.0",
          "model_name": "HTMLModel",
          "state": {
            "_dom_classes": [],
            "_model_module": "@jupyter-widgets/controls",
            "_model_module_version": "1.5.0",
            "_model_name": "HTMLModel",
            "_view_count": null,
            "_view_module": "@jupyter-widgets/controls",
            "_view_module_version": "1.5.0",
            "_view_name": "HTMLView",
            "description": "",
            "description_tooltip": null,
            "layout": "IPY_MODEL_6babe5dd11734317a636f80d02fbfd64",
            "placeholder": "​",
            "style": "IPY_MODEL_bfcecf818d804b34893f2ab684befef5",
            "value": " 4422102/4422102 [00:00&lt;00:00, 8532516.55it/s]"
          }
        },
        "6298e92393d247e198d6618792a7b13b": {
          "model_module": "@jupyter-widgets/controls",
          "model_module_version": "1.5.0",
          "model_name": "ProgressStyleModel",
          "state": {
            "_model_module": "@jupyter-widgets/controls",
            "_model_module_version": "1.5.0",
            "_model_name": "ProgressStyleModel",
            "_view_count": null,
            "_view_module": "@jupyter-widgets/base",
            "_view_module_version": "1.2.0",
            "_view_name": "StyleView",
            "bar_color": null,
            "description_width": ""
          }
        },
        "67340992a43840cdb89695f295dfdccd": {
          "model_module": "@jupyter-widgets/controls",
          "model_module_version": "1.5.0",
          "model_name": "ProgressStyleModel",
          "state": {
            "_model_module": "@jupyter-widgets/controls",
            "_model_module_version": "1.5.0",
            "_model_name": "ProgressStyleModel",
            "_view_count": null,
            "_view_module": "@jupyter-widgets/base",
            "_view_module_version": "1.2.0",
            "_view_name": "StyleView",
            "bar_color": null,
            "description_width": ""
          }
        },
        "6ac45383000548ba9c9268652c980ac2": {
          "model_module": "@jupyter-widgets/base",
          "model_module_version": "1.2.0",
          "model_name": "LayoutModel",
          "state": {
            "_model_module": "@jupyter-widgets/base",
            "_model_module_version": "1.2.0",
            "_model_name": "LayoutModel",
            "_view_count": null,
            "_view_module": "@jupyter-widgets/base",
            "_view_module_version": "1.2.0",
            "_view_name": "LayoutView",
            "align_content": null,
            "align_items": null,
            "align_self": null,
            "border": null,
            "bottom": null,
            "display": null,
            "flex": null,
            "flex_flow": null,
            "grid_area": null,
            "grid_auto_columns": null,
            "grid_auto_flow": null,
            "grid_auto_rows": null,
            "grid_column": null,
            "grid_gap": null,
            "grid_row": null,
            "grid_template_areas": null,
            "grid_template_columns": null,
            "grid_template_rows": null,
            "height": null,
            "justify_content": null,
            "justify_items": null,
            "left": null,
            "margin": null,
            "max_height": null,
            "max_width": null,
            "min_height": null,
            "min_width": null,
            "object_fit": null,
            "object_position": null,
            "order": null,
            "overflow": null,
            "overflow_x": null,
            "overflow_y": null,
            "padding": null,
            "right": null,
            "top": null,
            "visibility": null,
            "width": null
          }
        },
        "6babe5dd11734317a636f80d02fbfd64": {
          "model_module": "@jupyter-widgets/base",
          "model_module_version": "1.2.0",
          "model_name": "LayoutModel",
          "state": {
            "_model_module": "@jupyter-widgets/base",
            "_model_module_version": "1.2.0",
            "_model_name": "LayoutModel",
            "_view_count": null,
            "_view_module": "@jupyter-widgets/base",
            "_view_module_version": "1.2.0",
            "_view_name": "LayoutView",
            "align_content": null,
            "align_items": null,
            "align_self": null,
            "border": null,
            "bottom": null,
            "display": null,
            "flex": null,
            "flex_flow": null,
            "grid_area": null,
            "grid_auto_columns": null,
            "grid_auto_flow": null,
            "grid_auto_rows": null,
            "grid_column": null,
            "grid_gap": null,
            "grid_row": null,
            "grid_template_areas": null,
            "grid_template_columns": null,
            "grid_template_rows": null,
            "height": null,
            "justify_content": null,
            "justify_items": null,
            "left": null,
            "margin": null,
            "max_height": null,
            "max_width": null,
            "min_height": null,
            "min_width": null,
            "object_fit": null,
            "object_position": null,
            "order": null,
            "overflow": null,
            "overflow_x": null,
            "overflow_y": null,
            "padding": null,
            "right": null,
            "top": null,
            "visibility": null,
            "width": null
          }
        },
        "7079195f3e1843a5908786adef7c461c": {
          "model_module": "@jupyter-widgets/base",
          "model_module_version": "1.2.0",
          "model_name": "LayoutModel",
          "state": {
            "_model_module": "@jupyter-widgets/base",
            "_model_module_version": "1.2.0",
            "_model_name": "LayoutModel",
            "_view_count": null,
            "_view_module": "@jupyter-widgets/base",
            "_view_module_version": "1.2.0",
            "_view_name": "LayoutView",
            "align_content": null,
            "align_items": null,
            "align_self": null,
            "border": null,
            "bottom": null,
            "display": null,
            "flex": null,
            "flex_flow": null,
            "grid_area": null,
            "grid_auto_columns": null,
            "grid_auto_flow": null,
            "grid_auto_rows": null,
            "grid_column": null,
            "grid_gap": null,
            "grid_row": null,
            "grid_template_areas": null,
            "grid_template_columns": null,
            "grid_template_rows": null,
            "height": null,
            "justify_content": null,
            "justify_items": null,
            "left": null,
            "margin": null,
            "max_height": null,
            "max_width": null,
            "min_height": null,
            "min_width": null,
            "object_fit": null,
            "object_position": null,
            "order": null,
            "overflow": null,
            "overflow_x": null,
            "overflow_y": null,
            "padding": null,
            "right": null,
            "top": null,
            "visibility": null,
            "width": null
          }
        },
        "7b07e1cf2a8f44cca8089d6a39aabdb5": {
          "model_module": "@jupyter-widgets/controls",
          "model_module_version": "1.5.0",
          "model_name": "HTMLModel",
          "state": {
            "_dom_classes": [],
            "_model_module": "@jupyter-widgets/controls",
            "_model_module_version": "1.5.0",
            "_model_name": "HTMLModel",
            "_view_count": null,
            "_view_module": "@jupyter-widgets/controls",
            "_view_module_version": "1.5.0",
            "_view_name": "HTMLView",
            "description": "",
            "description_tooltip": null,
            "layout": "IPY_MODEL_e0769b04d6604073baa2be577289a80c",
            "placeholder": "​",
            "style": "IPY_MODEL_3bef50b638a045fbaa76df4a0c3f74c5",
            "value": " 26421880/26421880 [00:01&lt;00:00, 25985692.79it/s]"
          }
        },
        "83eb6810432945168ae140f4d588ff72": {
          "model_module": "@jupyter-widgets/base",
          "model_module_version": "1.2.0",
          "model_name": "LayoutModel",
          "state": {
            "_model_module": "@jupyter-widgets/base",
            "_model_module_version": "1.2.0",
            "_model_name": "LayoutModel",
            "_view_count": null,
            "_view_module": "@jupyter-widgets/base",
            "_view_module_version": "1.2.0",
            "_view_name": "LayoutView",
            "align_content": null,
            "align_items": null,
            "align_self": null,
            "border": null,
            "bottom": null,
            "display": null,
            "flex": null,
            "flex_flow": null,
            "grid_area": null,
            "grid_auto_columns": null,
            "grid_auto_flow": null,
            "grid_auto_rows": null,
            "grid_column": null,
            "grid_gap": null,
            "grid_row": null,
            "grid_template_areas": null,
            "grid_template_columns": null,
            "grid_template_rows": null,
            "height": null,
            "justify_content": null,
            "justify_items": null,
            "left": null,
            "margin": null,
            "max_height": null,
            "max_width": null,
            "min_height": null,
            "min_width": null,
            "object_fit": null,
            "object_position": null,
            "order": null,
            "overflow": null,
            "overflow_x": null,
            "overflow_y": null,
            "padding": null,
            "right": null,
            "top": null,
            "visibility": null,
            "width": null
          }
        },
        "848fb9291dd842f694854b53ce846e2e": {
          "model_module": "@jupyter-widgets/controls",
          "model_module_version": "1.5.0",
          "model_name": "HBoxModel",
          "state": {
            "_dom_classes": [],
            "_model_module": "@jupyter-widgets/controls",
            "_model_module_version": "1.5.0",
            "_model_name": "HBoxModel",
            "_view_count": null,
            "_view_module": "@jupyter-widgets/controls",
            "_view_module_version": "1.5.0",
            "_view_name": "HBoxView",
            "box_style": "",
            "children": [
              "IPY_MODEL_2033f4424ae5444d8a4af8f2f8fee611",
              "IPY_MODEL_09776de60323495f9b881e78b46468fa",
              "IPY_MODEL_96c8f52b81c248058ff055b2c7502465"
            ],
            "layout": "IPY_MODEL_7079195f3e1843a5908786adef7c461c"
          }
        },
        "8ea1b82cbeff4d0a8c291b6eb27f601f": {
          "model_module": "@jupyter-widgets/controls",
          "model_module_version": "1.5.0",
          "model_name": "ProgressStyleModel",
          "state": {
            "_model_module": "@jupyter-widgets/controls",
            "_model_module_version": "1.5.0",
            "_model_name": "ProgressStyleModel",
            "_view_count": null,
            "_view_module": "@jupyter-widgets/base",
            "_view_module_version": "1.2.0",
            "_view_name": "StyleView",
            "bar_color": null,
            "description_width": ""
          }
        },
        "96c8f52b81c248058ff055b2c7502465": {
          "model_module": "@jupyter-widgets/controls",
          "model_module_version": "1.5.0",
          "model_name": "HTMLModel",
          "state": {
            "_dom_classes": [],
            "_model_module": "@jupyter-widgets/controls",
            "_model_module_version": "1.5.0",
            "_model_name": "HTMLModel",
            "_view_count": null,
            "_view_module": "@jupyter-widgets/controls",
            "_view_module_version": "1.5.0",
            "_view_name": "HTMLView",
            "description": "",
            "description_tooltip": null,
            "layout": "IPY_MODEL_a25a7310f0804da98dd385ba282659b6",
            "placeholder": "​",
            "style": "IPY_MODEL_426e5b3fba4345f88b7517fd0d403770",
            "value": " 29515/29515 [00:00&lt;00:00, 266059.05it/s]"
          }
        },
        "9c9780a59264431fa8d3f3a39f73eb88": {
          "model_module": "@jupyter-widgets/controls",
          "model_module_version": "1.5.0",
          "model_name": "HTMLModel",
          "state": {
            "_dom_classes": [],
            "_model_module": "@jupyter-widgets/controls",
            "_model_module_version": "1.5.0",
            "_model_name": "HTMLModel",
            "_view_count": null,
            "_view_module": "@jupyter-widgets/controls",
            "_view_module_version": "1.5.0",
            "_view_name": "HTMLView",
            "description": "",
            "description_tooltip": null,
            "layout": "IPY_MODEL_3a52efc3bba74f53b58d30544a30e9a3",
            "placeholder": "​",
            "style": "IPY_MODEL_0aae83b1782149febf42de85ee2bb517",
            "value": "100%"
          }
        },
        "a125a92a779744769ed2d4abdb5bf46e": {
          "model_module": "@jupyter-widgets/controls",
          "model_module_version": "1.5.0",
          "model_name": "FloatProgressModel",
          "state": {
            "_dom_classes": [],
            "_model_module": "@jupyter-widgets/controls",
            "_model_module_version": "1.5.0",
            "_model_name": "FloatProgressModel",
            "_view_count": null,
            "_view_module": "@jupyter-widgets/controls",
            "_view_module_version": "1.5.0",
            "_view_name": "ProgressView",
            "bar_style": "success",
            "description": "",
            "description_tooltip": null,
            "layout": "IPY_MODEL_a2b486bfa0df44af86ee13fc1e46a3b4",
            "max": 26421880,
            "min": 0,
            "orientation": "horizontal",
            "style": "IPY_MODEL_8ea1b82cbeff4d0a8c291b6eb27f601f",
            "value": 26421880
          }
        },
        "a25a7310f0804da98dd385ba282659b6": {
          "model_module": "@jupyter-widgets/base",
          "model_module_version": "1.2.0",
          "model_name": "LayoutModel",
          "state": {
            "_model_module": "@jupyter-widgets/base",
            "_model_module_version": "1.2.0",
            "_model_name": "LayoutModel",
            "_view_count": null,
            "_view_module": "@jupyter-widgets/base",
            "_view_module_version": "1.2.0",
            "_view_name": "LayoutView",
            "align_content": null,
            "align_items": null,
            "align_self": null,
            "border": null,
            "bottom": null,
            "display": null,
            "flex": null,
            "flex_flow": null,
            "grid_area": null,
            "grid_auto_columns": null,
            "grid_auto_flow": null,
            "grid_auto_rows": null,
            "grid_column": null,
            "grid_gap": null,
            "grid_row": null,
            "grid_template_areas": null,
            "grid_template_columns": null,
            "grid_template_rows": null,
            "height": null,
            "justify_content": null,
            "justify_items": null,
            "left": null,
            "margin": null,
            "max_height": null,
            "max_width": null,
            "min_height": null,
            "min_width": null,
            "object_fit": null,
            "object_position": null,
            "order": null,
            "overflow": null,
            "overflow_x": null,
            "overflow_y": null,
            "padding": null,
            "right": null,
            "top": null,
            "visibility": null,
            "width": null
          }
        },
        "a2b486bfa0df44af86ee13fc1e46a3b4": {
          "model_module": "@jupyter-widgets/base",
          "model_module_version": "1.2.0",
          "model_name": "LayoutModel",
          "state": {
            "_model_module": "@jupyter-widgets/base",
            "_model_module_version": "1.2.0",
            "_model_name": "LayoutModel",
            "_view_count": null,
            "_view_module": "@jupyter-widgets/base",
            "_view_module_version": "1.2.0",
            "_view_name": "LayoutView",
            "align_content": null,
            "align_items": null,
            "align_self": null,
            "border": null,
            "bottom": null,
            "display": null,
            "flex": null,
            "flex_flow": null,
            "grid_area": null,
            "grid_auto_columns": null,
            "grid_auto_flow": null,
            "grid_auto_rows": null,
            "grid_column": null,
            "grid_gap": null,
            "grid_row": null,
            "grid_template_areas": null,
            "grid_template_columns": null,
            "grid_template_rows": null,
            "height": null,
            "justify_content": null,
            "justify_items": null,
            "left": null,
            "margin": null,
            "max_height": null,
            "max_width": null,
            "min_height": null,
            "min_width": null,
            "object_fit": null,
            "object_position": null,
            "order": null,
            "overflow": null,
            "overflow_x": null,
            "overflow_y": null,
            "padding": null,
            "right": null,
            "top": null,
            "visibility": null,
            "width": null
          }
        },
        "a453c9fbab9f4a7389311b3e06136638": {
          "model_module": "@jupyter-widgets/controls",
          "model_module_version": "1.5.0",
          "model_name": "DescriptionStyleModel",
          "state": {
            "_model_module": "@jupyter-widgets/controls",
            "_model_module_version": "1.5.0",
            "_model_name": "DescriptionStyleModel",
            "_view_count": null,
            "_view_module": "@jupyter-widgets/base",
            "_view_module_version": "1.2.0",
            "_view_name": "StyleView",
            "description_width": ""
          }
        },
        "a89529ba55c047518670913881cab312": {
          "model_module": "@jupyter-widgets/base",
          "model_module_version": "1.2.0",
          "model_name": "LayoutModel",
          "state": {
            "_model_module": "@jupyter-widgets/base",
            "_model_module_version": "1.2.0",
            "_model_name": "LayoutModel",
            "_view_count": null,
            "_view_module": "@jupyter-widgets/base",
            "_view_module_version": "1.2.0",
            "_view_name": "LayoutView",
            "align_content": null,
            "align_items": null,
            "align_self": null,
            "border": null,
            "bottom": null,
            "display": null,
            "flex": null,
            "flex_flow": null,
            "grid_area": null,
            "grid_auto_columns": null,
            "grid_auto_flow": null,
            "grid_auto_rows": null,
            "grid_column": null,
            "grid_gap": null,
            "grid_row": null,
            "grid_template_areas": null,
            "grid_template_columns": null,
            "grid_template_rows": null,
            "height": null,
            "justify_content": null,
            "justify_items": null,
            "left": null,
            "margin": null,
            "max_height": null,
            "max_width": null,
            "min_height": null,
            "min_width": null,
            "object_fit": null,
            "object_position": null,
            "order": null,
            "overflow": null,
            "overflow_x": null,
            "overflow_y": null,
            "padding": null,
            "right": null,
            "top": null,
            "visibility": null,
            "width": null
          }
        },
        "bc060891dc63441692ca9616da4a5cb3": {
          "model_module": "@jupyter-widgets/controls",
          "model_module_version": "1.5.0",
          "model_name": "HTMLModel",
          "state": {
            "_dom_classes": [],
            "_model_module": "@jupyter-widgets/controls",
            "_model_module_version": "1.5.0",
            "_model_name": "HTMLModel",
            "_view_count": null,
            "_view_module": "@jupyter-widgets/controls",
            "_view_module_version": "1.5.0",
            "_view_name": "HTMLView",
            "description": "",
            "description_tooltip": null,
            "layout": "IPY_MODEL_d51db0a3d93e46148dcb2fe022cbc9d7",
            "placeholder": "​",
            "style": "IPY_MODEL_a453c9fbab9f4a7389311b3e06136638",
            "value": "100%"
          }
        },
        "bfcecf818d804b34893f2ab684befef5": {
          "model_module": "@jupyter-widgets/controls",
          "model_module_version": "1.5.0",
          "model_name": "DescriptionStyleModel",
          "state": {
            "_model_module": "@jupyter-widgets/controls",
            "_model_module_version": "1.5.0",
            "_model_name": "DescriptionStyleModel",
            "_view_count": null,
            "_view_module": "@jupyter-widgets/base",
            "_view_module_version": "1.2.0",
            "_view_name": "StyleView",
            "description_width": ""
          }
        },
        "c00f047186cc4ff28dd162eb4298c33b": {
          "model_module": "@jupyter-widgets/controls",
          "model_module_version": "1.5.0",
          "model_name": "HBoxModel",
          "state": {
            "_dom_classes": [],
            "_model_module": "@jupyter-widgets/controls",
            "_model_module_version": "1.5.0",
            "_model_name": "HBoxModel",
            "_view_count": null,
            "_view_module": "@jupyter-widgets/controls",
            "_view_module_version": "1.5.0",
            "_view_name": "HBoxView",
            "box_style": "",
            "children": [
              "IPY_MODEL_4ccb31dcf3df4cbd8196cbce3f05de72",
              "IPY_MODEL_a125a92a779744769ed2d4abdb5bf46e",
              "IPY_MODEL_7b07e1cf2a8f44cca8089d6a39aabdb5"
            ],
            "layout": "IPY_MODEL_a89529ba55c047518670913881cab312"
          }
        },
        "cd49bdaa230d41caa2bbdc0ed51a8106": {
          "model_module": "@jupyter-widgets/controls",
          "model_module_version": "1.5.0",
          "model_name": "HBoxModel",
          "state": {
            "_dom_classes": [],
            "_model_module": "@jupyter-widgets/controls",
            "_model_module_version": "1.5.0",
            "_model_name": "HBoxModel",
            "_view_count": null,
            "_view_module": "@jupyter-widgets/controls",
            "_view_module_version": "1.5.0",
            "_view_name": "HBoxView",
            "box_style": "",
            "children": [
              "IPY_MODEL_bc060891dc63441692ca9616da4a5cb3",
              "IPY_MODEL_506daf94953a4b5ab44291e28ec923d8",
              "IPY_MODEL_2493276dcac845c0b1dfe5019352187f"
            ],
            "layout": "IPY_MODEL_dc1998296e2f4129acb170fa1a9bb676"
          }
        },
        "d51db0a3d93e46148dcb2fe022cbc9d7": {
          "model_module": "@jupyter-widgets/base",
          "model_module_version": "1.2.0",
          "model_name": "LayoutModel",
          "state": {
            "_model_module": "@jupyter-widgets/base",
            "_model_module_version": "1.2.0",
            "_model_name": "LayoutModel",
            "_view_count": null,
            "_view_module": "@jupyter-widgets/base",
            "_view_module_version": "1.2.0",
            "_view_name": "LayoutView",
            "align_content": null,
            "align_items": null,
            "align_self": null,
            "border": null,
            "bottom": null,
            "display": null,
            "flex": null,
            "flex_flow": null,
            "grid_area": null,
            "grid_auto_columns": null,
            "grid_auto_flow": null,
            "grid_auto_rows": null,
            "grid_column": null,
            "grid_gap": null,
            "grid_row": null,
            "grid_template_areas": null,
            "grid_template_columns": null,
            "grid_template_rows": null,
            "height": null,
            "justify_content": null,
            "justify_items": null,
            "left": null,
            "margin": null,
            "max_height": null,
            "max_width": null,
            "min_height": null,
            "min_width": null,
            "object_fit": null,
            "object_position": null,
            "order": null,
            "overflow": null,
            "overflow_x": null,
            "overflow_y": null,
            "padding": null,
            "right": null,
            "top": null,
            "visibility": null,
            "width": null
          }
        },
        "dc1998296e2f4129acb170fa1a9bb676": {
          "model_module": "@jupyter-widgets/base",
          "model_module_version": "1.2.0",
          "model_name": "LayoutModel",
          "state": {
            "_model_module": "@jupyter-widgets/base",
            "_model_module_version": "1.2.0",
            "_model_name": "LayoutModel",
            "_view_count": null,
            "_view_module": "@jupyter-widgets/base",
            "_view_module_version": "1.2.0",
            "_view_name": "LayoutView",
            "align_content": null,
            "align_items": null,
            "align_self": null,
            "border": null,
            "bottom": null,
            "display": null,
            "flex": null,
            "flex_flow": null,
            "grid_area": null,
            "grid_auto_columns": null,
            "grid_auto_flow": null,
            "grid_auto_rows": null,
            "grid_column": null,
            "grid_gap": null,
            "grid_row": null,
            "grid_template_areas": null,
            "grid_template_columns": null,
            "grid_template_rows": null,
            "height": null,
            "justify_content": null,
            "justify_items": null,
            "left": null,
            "margin": null,
            "max_height": null,
            "max_width": null,
            "min_height": null,
            "min_width": null,
            "object_fit": null,
            "object_position": null,
            "order": null,
            "overflow": null,
            "overflow_x": null,
            "overflow_y": null,
            "padding": null,
            "right": null,
            "top": null,
            "visibility": null,
            "width": null
          }
        },
        "dc521a47b5ab4203bb3ebdc9b0d9f62d": {
          "model_module": "@jupyter-widgets/base",
          "model_module_version": "1.2.0",
          "model_name": "LayoutModel",
          "state": {
            "_model_module": "@jupyter-widgets/base",
            "_model_module_version": "1.2.0",
            "_model_name": "LayoutModel",
            "_view_count": null,
            "_view_module": "@jupyter-widgets/base",
            "_view_module_version": "1.2.0",
            "_view_name": "LayoutView",
            "align_content": null,
            "align_items": null,
            "align_self": null,
            "border": null,
            "bottom": null,
            "display": null,
            "flex": null,
            "flex_flow": null,
            "grid_area": null,
            "grid_auto_columns": null,
            "grid_auto_flow": null,
            "grid_auto_rows": null,
            "grid_column": null,
            "grid_gap": null,
            "grid_row": null,
            "grid_template_areas": null,
            "grid_template_columns": null,
            "grid_template_rows": null,
            "height": null,
            "justify_content": null,
            "justify_items": null,
            "left": null,
            "margin": null,
            "max_height": null,
            "max_width": null,
            "min_height": null,
            "min_width": null,
            "object_fit": null,
            "object_position": null,
            "order": null,
            "overflow": null,
            "overflow_x": null,
            "overflow_y": null,
            "padding": null,
            "right": null,
            "top": null,
            "visibility": null,
            "width": null
          }
        },
        "e0769b04d6604073baa2be577289a80c": {
          "model_module": "@jupyter-widgets/base",
          "model_module_version": "1.2.0",
          "model_name": "LayoutModel",
          "state": {
            "_model_module": "@jupyter-widgets/base",
            "_model_module_version": "1.2.0",
            "_model_name": "LayoutModel",
            "_view_count": null,
            "_view_module": "@jupyter-widgets/base",
            "_view_module_version": "1.2.0",
            "_view_name": "LayoutView",
            "align_content": null,
            "align_items": null,
            "align_self": null,
            "border": null,
            "bottom": null,
            "display": null,
            "flex": null,
            "flex_flow": null,
            "grid_area": null,
            "grid_auto_columns": null,
            "grid_auto_flow": null,
            "grid_auto_rows": null,
            "grid_column": null,
            "grid_gap": null,
            "grid_row": null,
            "grid_template_areas": null,
            "grid_template_columns": null,
            "grid_template_rows": null,
            "height": null,
            "justify_content": null,
            "justify_items": null,
            "left": null,
            "margin": null,
            "max_height": null,
            "max_width": null,
            "min_height": null,
            "min_width": null,
            "object_fit": null,
            "object_position": null,
            "order": null,
            "overflow": null,
            "overflow_x": null,
            "overflow_y": null,
            "padding": null,
            "right": null,
            "top": null,
            "visibility": null,
            "width": null
          }
        }
      }
    }
  },
  "nbformat": 4,
  "nbformat_minor": 0
}
