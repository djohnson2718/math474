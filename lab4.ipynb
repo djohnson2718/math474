{
 "cells": [
  {
   "cell_type": "markdown",
   "metadata": {
    "colab_type": "text",
    "id": "tpnN_XZwq_vc"
   },
   "source": [
    "<a href=\"https://colab.research.google.com/github/wingated/cs474_labs_f2019/blob/master/DL_Lab4.ipynb\" target=\"_parent\"><img src=\"https://colab.research.google.com/assets/colab-badge.svg\" alt=\"Open In Colab\"/></a>"
   ]
  },
  {
   "cell_type": "markdown",
   "metadata": {
    "colab_type": "text",
    "id": "view-in-github"
   },
   "source": [
    "# Lab 4: Cancer Detection\n",
    "\n",
    "## Objective\n",
    "* To build a dense prediction model\n",
    "* To begin reading current papers in DNN research\n",
    "\n",
    "## Deliverable\n",
    "For this lab, you will turn in a notebook that describes your efforts at creating\n",
    "a pytorch radiologist. Your final deliverable is a notebook that has (1) a deep network,\n",
    "(2) method of calculating accuracy, \n",
    "(3) images that show the dense prediction produced by your network on the pos_test_000072.png image (index 172 in the validation dataset).\n",
    "This is an image in the test set that your network will not have seen before.\n",
    "This image, and the ground truth labeling, is shown below.\n",
    "(And is contained in the downloadable dataset below).\n",
    "\n",
    "![](http://liftothers.org/dokuwiki/lib/exe/fetch.php?w=200&tok=a8ac31&media=cs501r_f2016:pos_test_000072_output.png)\n",
    "<img src=\"http://liftothers.org/dokuwiki/lib/exe/fetch.php?media=cs501r_f2016:pos_test_000072.png\" width=\"200\">\n",
    "\n",
    "\n",
    "## Grading standards\n",
    "Your notebook will be graded on the following:\n",
    "* 40% Proper design, creation and debugging of a dense prediction network\n",
    "* 20% Proper implementation of train/test set accuracy measure\n",
    "* 20% Tidy visualizations of loss of your dense predictor during training\n",
    "* 20% Test image output\n",
    "\n",
    "\n",
    "## Data set\n",
    "The data is given as a set of 1024×1024 PNG images. Each input image (in \n",
    "the ```inputs``` directory) is an RGB image of a section of tissue,\n",
    "and there a file with the same name (in the ```outputs``` directory) \n",
    "that has a dense labeling of whether or not a section of tissue is cancerous\n",
    "(white pixels mean “cancerous”, while black pixels mean “not cancerous”).\n",
    "\n",
    "The data has been pre-split for you into test and training splits.\n",
    "Filenames also reflect whether or not the image has any cancer at all \n",
    "(files starting with ```pos_``` have some cancerous pixels, while files \n",
    "starting with ```neg_``` have no cancer anywhere).\n",
    "All of the data is hand-labeled, so the dataset is not very large.\n",
    "That means that overfitting is a real possibility.\n",
    "\n",
    "## Description\n",
    "For a video including some tips and tricks that can help with this lab: [https://youtu.be/Ms19kgK_D8w](https://youtu.be/Ms19kgK_D8w)\n",
    "For this lab, you will implement a virtual radiologist.\n",
    "You are given images of possibly cancerous tissue samples, \n",
    "and you must build a detector that identifies where in the tissue cancer may reside.\n",
    "\n",
    "---\n",
    "\n",
    "### Part 0\n",
    "Watch and follow video tutorial:\n",
    "\n",
    "https://youtu.be/Ms19kgK_D8w\n",
    "\n",
    "**TODO:**\n",
    "\n",
    "* Watch tutorial\n",
    "\n",
    "**DONE:**\n",
    "\n",
    "### Part 1\n",
    "Implement a dense predictor\n",
    "\n",
    "In previous labs and lectures, we have talked about DNNs that classify an \n",
    "entire image as a single class. Here, however, we are interested in a more nuanced classification: \n",
    "given an input image, we would like to identify each pixel that is possibly cancerous. \n",
    "That means that instead of a single output, your network should output an “image”, \n",
    "where each output pixel of your network represents the probability that a pixel is cancerous.\n",
    "\n",
    "___\n",
    "\n",
    "Implement your network topology\n",
    "\n",
    "Use the “Deep Convolution U-Net” from this paper: [(U-Net: Convolutional Networks for Biomedical Image Segmentation)](https://arxiv.org/pdf/1505.04597.pdf) \n",
    "\n",
    "![(Figure 1)](https://lh3.googleusercontent.com/qnHiB3B2KRxC3NjiSDtY08_DgDGTDsHcO6PP53oNRuct-p2QXCR-gyLkDveO850F2tTAhIOPC5Ha06NP9xq1JPsVAHlQ5UXA5V-9zkUrJHGhP_MNHFoRGnjBz1vn1p8P2rMWhlAb6HQ=w2400)\n",
    "\n",
    "You should use existing pytorch functions (not your own Conv2D module), such as ```nn.Conv2d``` and ```nn.CrossEntropyLoss```;\n",
    "you will also need the pytorch function ```torch.cat``` and ```nn.ConvTranspose2d```\n",
    "\n",
    "```torch.cat``` allows you to concatenate tensors.\n",
    "```nn.ConvTranspose2d``` is the opposite of ```nn.Conv2d```.\n",
    "It is used to bring an image from low res to higher res.\n",
    "[This blog](https://towardsdatascience.com/up-sampling-with-transposed-convolution-9ae4f2df52d0) should help you understand this function in detail.\n",
    "\n",
    "You can simplify the implementation of this lab by padding the feature maps as they pass through each convolution. This will make the concatenation process easier, though this is technically a departure from the cropping technique outlined in the orginal U-Net paper. \n",
    "\n",
    "Note that the simplest network you could implement (with all the desired properties)\n",
    "is just a single convolution layer with two filters and no relu! \n",
    "Why is that? (of course it wouldn't work very well!)\n",
    "\n",
    "**TODO:**\n",
    "\n",
    "* Understand the U-Net architecture\n",
    "* Understand concatenation of inputs from multiple prior layers\n",
    "* Understand ConvTranspose\n",
    "* Answer Question / Reflect on simplest network with the desired properties\n",
    "\n",
    "**DONE:**\n",
    "\n",
    "\n",
    "___\n",
    "The intention of this lab is to learn how to make deep neural nets. We'll help you with the implementation of Dataset.\n",
    "This code will download the dataset for you so that you are ready to use it and focus on network\n",
    "implementation, losses and accuracies."
   ]
  },
  {
   "cell_type": "code",
   "execution_count": 1,
   "metadata": {
    "colab": {},
    "colab_type": "code",
    "id": "wQOefmcZVgTl",
    "pycharm": {
     "is_executing": false
    }
   },
   "outputs": [],
   "source": [
    "\n",
    "import torch\n",
    "import torch.nn as nn\n",
    "import torch.nn.functional as F\n",
    "import torch.optim as optim\n",
    "from torch.utils.data import Dataset, DataLoader\n",
    "import numpy as np\n",
    "import matplotlib.pyplot as plt\n",
    "from torchvision import transforms, utils, datasets\n",
    "from tqdm import tqdm\n",
    "from torch.nn.parameter import Parameter\n",
    "import pdb\n",
    "import torchvision\n",
    "import os\n",
    "import gzip\n",
    "import tarfile\n",
    "import gc\n",
    "from IPython.core.ultratb import AutoFormattedTB\n",
    "__ITB__ = AutoFormattedTB(mode = 'Verbose',color_scheme='LightBg', tb_offset = 1)\n",
    "\n",
    "assert torch.cuda.is_available(), \"You need to request a GPU from Runtime > Change Runtime\""
   ]
  },
  {
   "cell_type": "markdown",
   "metadata": {
    "colab_type": "text",
    "id": "49quyvIJvTq8"
   },
   "source": [
    "WARNING: You may run into an error that says \"RuntimeError: CUDA out of memory.\"\n",
    "\n",
    "In this case, the memory required for your batch is larger than what the GPU is capable of. You can solve this problem by adjusting the image size or the batch size and then restarting the runtime. "
   ]
  },
  {
   "cell_type": "code",
   "execution_count": 2,
   "metadata": {
    "colab": {},
    "colab_type": "code",
    "id": "Il_53HLSWPTY"
   },
   "outputs": [],
   "source": [
    "class CancerDataset(Dataset):\n",
    "  def __init__(self, root, download=True, size=512, train=True):\n",
    "    if download and not os.path.exists(os.path.join(root, 'cancer_data')):\n",
    "      datasets.utils.download_url('http://liftothers.org/cancer_data.tar.gz', root, 'cancer_data.tar.gz', None)\n",
    "      self.extract_gzip(os.path.join(root, 'cancer_data.tar.gz'))\n",
    "      self.extract_tar(os.path.join(root, 'cancer_data.tar'))\n",
    "    \n",
    "    postfix = 'train' if train else 'test'\n",
    "    root = os.path.join(root, 'cancer_data', 'cancer_data')\n",
    "    self.dataset_folder = torchvision.datasets.ImageFolder(os.path.join(root, 'inputs_' + postfix) ,transform = transforms.Compose([transforms.Resize(size),transforms.ToTensor()]))\n",
    "    self.label_folder = torchvision.datasets.ImageFolder(os.path.join(root, 'outputs_' + postfix) ,transform = transforms.Compose([transforms.Resize(size),transforms.ToTensor()]))\n",
    "\n",
    "  @staticmethod\n",
    "  def extract_gzip(gzip_path, remove_finished=False):\n",
    "    print('Extracting {}'.format(gzip_path))\n",
    "    with open(gzip_path.replace('.gz', ''), 'wb') as out_f, gzip.GzipFile(gzip_path) as zip_f:\n",
    "      out_f.write(zip_f.read())\n",
    "    if remove_finished:\n",
    "      os.unlink(gzip_path)\n",
    "  \n",
    "  @staticmethod\n",
    "  def extract_tar(tar_path):\n",
    "    print('Untarring {}'.format(tar_path))\n",
    "    z = tarfile.TarFile(tar_path)\n",
    "    z.extractall(tar_path.replace('.tar', ''))\n",
    "\n",
    "  def __getitem__(self,index):\n",
    "    img = self.dataset_folder[index]\n",
    "    label = self.label_folder[index]\n",
    "    return img[0],label[0][0]\n",
    "  \n",
    "  def __len__(self):\n",
    "    return len(self.dataset_folder)"
   ]
  },
  {
   "cell_type": "code",
   "execution_count": 3,
   "metadata": {
    "colab": {},
    "colab_type": "code",
    "id": "jq22IyKanxo_"
   },
   "outputs": [],
   "source": [
    "# Since you will be using the output of one network in two places(convolution and maxpooling),\n",
    "# you can't use nn.Sequential.\n",
    "# Instead you will write up the network like normal variable assignment as the example shown below:\n",
    "# You are welcome (and encouraged) to use the built-in batch normalization and dropout layer.\n",
    "\n",
    "\n",
    "class DownBlock(nn.Module):\n",
    "  def __init__(self, in_channels,out_channels):\n",
    "    super().__init__()\n",
    "    self.conv1 = nn.Conv2d(in_channels,out_channels, kernel_size=3, stride=1,padding=1)\n",
    "    self.conv2 = nn.Conv2d(out_channels,out_channels, kernel_size=3, stride=1, padding=1)\n",
    "    self.activation = nn.ReLU()\n",
    "    self.pool = nn.MaxPool2d(2,2)\n",
    "\n",
    "  def forward(self,input):\n",
    "    o1 = self.activation(self.conv1(input))\n",
    "    o2 = self.activation(self.conv2(o1))\n",
    "    self.send_for_skip = o2\n",
    "    o3 = self.pool(o2)\n",
    "    return o3\n",
    "\n",
    "class UpBlock(nn.Module):\n",
    "  def __init__(self, in_channels, intermediate_channels, out_channels):\n",
    "    super().__init__()\n",
    "    self.conv1 = nn.Conv2d(in_channels,intermediate_channels, kernel_size=3, stride=1,padding=1)\n",
    "    self.conv2 = nn.Conv2d(intermediate_channels,intermediate_channels, kernel_size=3, stride=1, padding=1)\n",
    "    self.activation = nn.ReLU()\n",
    "    self.convTr = nn.ConvTranspose2d(intermediate_channels, out_channels, 2, stride=2)\n",
    "\n",
    "  def forward(self, input):\n",
    "    o1 = self.activation(self.conv1(input))\n",
    "    o2 = self.activation(self.conv2(o1))\n",
    "    o3 = self.convTr(o2)\n",
    "    return o3 \n",
    "\n",
    "class CancerDetection(nn.Module):\n",
    "  def __init__(self):\n",
    "    super(CancerDetection, self).__init__()\n",
    "    self.db1 = DownBlock(3,64)\n",
    "    self.db2 = DownBlock(64,128)\n",
    "    self.db3 = DownBlock(128,256)\n",
    "    self.db4 = DownBlock(256,512)\n",
    "\n",
    "    self.ub1 = UpBlock(512,1024,512)\n",
    "\n",
    "    self.ub2 = UpBlock(1024,512,256)\n",
    "\n",
    "    self.ub3 = UpBlock(512,256,128)\n",
    "\n",
    "    self.ub4 = UpBlock(256,128,64)\n",
    "\n",
    "    self.endconv1 = nn.Conv2d(128,64, kernel_size=1, stride=1, padding=0)\n",
    "\n",
    "    self.endconv2 = nn.Conv2d(64,64, kernel_size=1, stride=1, padding=0)\n",
    "\n",
    "    self.endconv3 = nn.Conv2d(64,2, kernel_size=1, stride=1, padding=0)\n",
    " \n",
    "  def forward(self, input):\n",
    "    o1 = self.db1(input)\n",
    "    o2 = self.db2(o1)\n",
    "    o3 = self.db3(o2)\n",
    "    o4 = self.db4(o3)\n",
    "    o5 = self.ub1(o4)\n",
    "    o6 = self.ub2(torch.cat((o5,self.db4.send_for_skip),1))\n",
    "    o7 = self.ub3(torch.cat((o6,self.db3.send_for_skip),1))\n",
    "    o8 = self.ub4(torch.cat((o7,self.db2.send_for_skip),1))\n",
    "    o9 = self.endconv1(torch.cat((o8,self.db1.send_for_skip),1))\n",
    "    o10 = self.endconv2(o9)\n",
    "    o11 = self.endconv3(o10)\n",
    "    return o11\n",
    "\n"
   ]
  },
  {
   "cell_type": "code",
   "execution_count": 4,
   "metadata": {
    "colab": {},
    "colab_type": "code",
    "id": "NAjagHCdGNAh"
   },
   "outputs": [
    {
     "name": "stdout",
     "output_type": "stream",
     "text": [
      "1342\n"
     ]
    }
   ],
   "source": [
    "# Create your datasets, dataloaders and neural network as you have before\n",
    "# Tip: Pass shuffle=True to constructor for training dataloader\n",
    "train_dataset = CancerDataset('/temp/Cancer/', download=True)\n",
    "val_dataset = CancerDataset('/temp/Cancer/', download=True, train=False)\n",
    "\n",
    "bs = 4\n",
    "\n",
    "print(len(train_dataset))\n",
    "\n",
    "train_loader = DataLoader(train_dataset, batch_size = bs, pin_memory = True, shuffle=True)\n",
    "validation_loader = DataLoader(val_dataset, batch_size = bs)"
   ]
  },
  {
   "cell_type": "code",
   "execution_count": 5,
   "metadata": {},
   "outputs": [
    {
     "name": "stdout",
     "output_type": "stream",
     "text": [
      "start 0.0\n",
      "model loaeded 0.125702144\n",
      "x,y loaded 0.14247936\n",
      "torch.Size([4, 3, 512, 512]) torch.Size([4, 512, 512])\n",
      "ran test input 3.58180864\n",
      "torch.float32 torch.float32\n",
      "torch.Size([4, 2, 512, 512]) torch.Size([4, 512, 512])\n",
      "end 0.0\n"
     ]
    }
   ],
   "source": [
    "\n",
    "print(\"start\", torch.cuda.memory_allocated()/1e9)\n",
    "testmodel = CancerDetection().cuda()\n",
    "gc.collect()\n",
    "#print(testmodel(train_dataset[0][0]).shape ,train_dataset[0][1].shape)\n",
    "print(\"model loaeded\", torch.cuda.memory_allocated()/1e9)\n",
    "for x,y in train_loader:\n",
    "  x,y=x.cuda(),y.cuda()\n",
    "  print(\"x,y loaded\", torch.cuda.memory_allocated()/1e9)\n",
    "  print(x.shape,y.shape)\n",
    "  t= testmodel(x)\n",
    "  print(\"ran test input\", torch.cuda.memory_allocated()/1e9)\n",
    "  print(t.dtype, y.dtype)\n",
    "  print(t.shape, y.shape)\n",
    "  nn.CrossEntropyLoss()(t,y.long())\n",
    "  break\n",
    "\n",
    "del testmodel\n",
    "del x\n",
    "del y\n",
    "del t\n",
    "gc.collect()\n",
    "print(\"end\", torch.cuda.memory_allocated()/1e9)\n"
   ]
  },
  {
   "cell_type": "code",
   "execution_count": 6,
   "metadata": {},
   "outputs": [],
   "source": [
    "objective = nn.CrossEntropyLoss()\n",
    "def do_it():\n",
    "  gc.collect()\n",
    "  model = CancerDetection()\n",
    "  model = model.cuda()\n",
    "  optimizer= optim.SGD(model.parameters(), lr = 1e-4)\n",
    "  losses = []\n",
    "  validations = []\n",
    "  #print(torch.cuda.memory_allocated() / 1e9)\n",
    "  num_epochs = 10\n",
    "  loop = tqdm(total=len(train_loader)*num_epochs, position = 0)\n",
    "\n",
    "  for epoch in range(num_epochs):\n",
    "    for  batch, (x,y_truth) in enumerate(train_loader):\n",
    "      x,y_truth = x.cuda(non_blocking=True), y_truth.cuda(non_blocking=True).long()\n",
    "\n",
    "      optimizer.zero_grad()\n",
    "      y_hat =  model(x)\n",
    "      loss = objective(y_hat, y_truth)\n",
    "\n",
    "      #assert loss - myobjective(y_hat, y_truth) < 1e-6, f\"myloss {myobjective(y_hat, y_truth)} != loss {loss}\"\n",
    "\n",
    "      loss.backward()\n",
    "\n",
    "      losses.append(loss.item())\n",
    "      accuracy = 0\n",
    "\n",
    "      #loop.set_description(\"batch:{} loss:{:.4f} val_loss:?\".format(batch, loss.item()))\n",
    "      loop.update(1)\n",
    "\n",
    "      optimizer.step()\n",
    "\n",
    "      if batch %100 == 0:\n",
    "        val = np.mean( [objective(model(x.cuda(non_blocking=True)), y.cuda(non_blocking=True).long()).item() for x,y in validation_loader])\n",
    "        validations.append((len(losses),val))\n",
    "\n",
    "\n",
    "      loop.set_description(\"batch:{} loss:{:.4f} val_loss:{:.4f}\".format(batch, loss.item(), validations[-1][1]))\n",
    "\n",
    "\n",
    "  loop.close()\n",
    "  plt.plot(losses,label=\"train\")\n",
    "  plt.plot(*zip(*validations),label=\"val\")\n",
    "  return losses, validations"
   ]
  },
  {
   "cell_type": "code",
   "execution_count": 7,
   "metadata": {},
   "outputs": [
    {
     "name": "stderr",
     "output_type": "stream",
     "text": [
      "batch:259 loss:0.6859 val_loss:0.6909:   8%|▊         | 260/3360 [05:56<57:29,  1.11s/it]  "
     ]
    }
   ],
   "source": [
    "do_it()"
   ]
  },
  {
   "cell_type": "code",
   "execution_count": null,
   "metadata": {
    "colab": {},
    "colab_type": "code",
    "id": "RkieTbwlYWPS"
   },
   "outputs": [],
   "source": [
    "# This is what was talked about in the video for memory management\n",
    "\n",
    "def scope():\n",
    "  try:\n",
    "    #your code for calling dataset and dataloader\n",
    "    gc.collect()\n",
    "    print(torch.cuda.memory_allocated() / 1e9)\n",
    "    \n",
    "    #for epochs:\n",
    "    # Call your model, figure out loss and accuracy\n",
    "    \n",
    "  except:\n",
    "    __ITB__()\n",
    "    \n",
    "scope()\n"
   ]
  },
  {
   "cell_type": "markdown",
   "metadata": {
    "colab_type": "text",
    "id": "CZ062Jv1jIIu"
   },
   "source": [
    "\n",
    "___\n",
    "\n",
    "### Part 2\n",
    "\n",
    "Plot performance over time\n",
    "\n",
    "Please generate two plots:\n",
    "\n",
    " One that shows loss on the training and validation set as a function of training time. \n",
    "\n",
    " One that shows accuracy on the training and validation set as a function of training time. \n",
    "\n",
    " Make sure your axes are labeled!\n",
    "\n",
    "**TODO:**\n",
    "\n",
    "* Plot training/validation loss as function of training time (not epochs)\n",
    "* Plot training/validation accuracy as function of training time (not epochs)\n",
    "\n",
    "**DONE:**\n",
    "\n"
   ]
  },
  {
   "cell_type": "code",
   "execution_count": null,
   "metadata": {
    "colab": {},
    "colab_type": "code",
    "id": "mTg1jyIsYVZN"
   },
   "outputs": [],
   "source": [
    "# Your plotting code here\n"
   ]
  },
  {
   "cell_type": "markdown",
   "metadata": {
    "nteract": {
     "transient": {
      "deleting": false
     }
    }
   },
   "source": [
    "**NOTE:**\n",
    "\n",
    "Guessing that the pixel is not cancerous every single time will give you an accuracy of ~ 85%.\n",
    "Your trained network should be able to do better than that (but you will not be graded on accuracy).\n",
    "This is the result I got after 1 hour or training.\n",
    "\n",
    "![](http://liftothers.org/dokuwiki/lib/exe/fetch.php?w=400&tok=d23e0b&media=cs501r_f2016:training_accuracy.png)\n",
    "![](http://liftothers.org/dokuwiki/lib/exe/fetch.php?w=400&tok=bb8e3c&media=cs501r_f2016:training_loss.png)"
   ]
  },
  {
   "cell_type": "markdown",
   "metadata": {
    "colab_type": "text",
    "id": "S4s92S2_jQOG"
   },
   "source": [
    "___\n",
    "\n",
    "### Part 3\n",
    "\n",
    "Generate at least 5 predictions on the pos_test_000072.png image and display them as images. These predictions should be made at a reasonable interval (e.g. every epoch). \n",
    "\n",
    "To do this, calculate the output of your trained network on the pos_test_000072.png image,\n",
    "then make a hard decision (cancerous/not-cancerous) for each pixel.\n",
    "The resulting image should be black-and-white, where white pixels represent things\n",
    "you think are probably cancerous.\n",
    "\n",
    "**TODO:**\n",
    "\n",
    "**DONE:**\n",
    "\n"
   ]
  },
  {
   "cell_type": "code",
   "execution_count": null,
   "metadata": {
    "colab": {},
    "colab_type": "code",
    "id": "XXfG3wClh8an",
    "pycharm": {
     "is_executing": false
    }
   },
   "outputs": [],
   "source": [
    "# Code for testing prediction on an image\n"
   ]
  }
 ],
 "metadata": {
  "accelerator": "GPU",
  "colab": {
   "collapsed_sections": [],
   "name": "lab4.ipynb",
   "provenance": []
  },
  "kernelspec": {
   "display_name": "data",
   "language": "python",
   "name": "python3"
  },
  "language_info": {
   "codemirror_mode": {
    "name": "ipython",
    "version": 3
   },
   "file_extension": ".py",
   "mimetype": "text/x-python",
   "name": "python",
   "nbconvert_exporter": "python",
   "pygments_lexer": "ipython3",
   "version": "3.10.9"
  },
  "nteract": {
   "version": "0.28.0"
  },
  "pycharm": {
   "stem_cell": {
    "cell_type": "raw",
    "metadata": {
     "collapsed": false
    },
    "source": []
   }
  },
  "vscode": {
   "interpreter": {
    "hash": "a054e1aff2dd4e2e3439a1e2fc25ca25ac3ca7fafa4908aa9e939913ed9d33cf"
   }
  }
 },
 "nbformat": 4,
 "nbformat_minor": 2
}
